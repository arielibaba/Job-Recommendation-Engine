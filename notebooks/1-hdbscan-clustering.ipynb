{
 "cells": [
  {
   "cell_type": "markdown",
   "id": "b3a1076a-ccb9-4481-aada-dc1b5dba3c64",
   "metadata": {},
   "source": [
    "# Clustering Using HDBSCAN\n",
    "\n",
    "### In this notebook, we perform the clustering of the professions using HDBSCAN."
   ]
  },
  {
   "cell_type": "markdown",
   "id": "9fe6d53c-da6c-4c9c-852b-18bbc0775da0",
   "metadata": {},
   "source": [
    "### Import libraries"
   ]
  },
  {
   "cell_type": "code",
   "execution_count": 1,
   "id": "dcacf974-750b-4caa-9271-fa073177f512",
   "metadata": {},
   "outputs": [],
   "source": [
    "import os, sys, time\n",
    "import pandas as pd, numpy as np\n",
    "import random\n",
    "import math\n",
    "import matplotlib.pyplot as plt\n",
    "import seaborn as sns\n",
    "from sklearn.manifold import MDS, TSNE\n",
    "import hdbscan\n",
    "import pickle\n",
    "import networkx as nx\n",
    "\n",
    "%matplotlib inline\n",
    "sns.set_context('poster')\n",
    "sns.set_style('white')\n",
    "sns.set_color_codes()\n",
    "plot_kwds = {'alpha' : 0.5, 's' : 80, 'linewidths':0}"
   ]
  },
  {
   "cell_type": "markdown",
   "id": "3504742e-3e54-4309-9fee-418d6e4e8a90",
   "metadata": {},
   "source": [
    "### Global variables"
   ]
  },
  {
   "cell_type": "code",
   "execution_count": 2,
   "id": "f52a5f47-dba9-4337-a5c8-16abd0883a32",
   "metadata": {},
   "outputs": [],
   "source": [
    "DATA = os.path.join('..', 'data')\n",
    "RESULTS = os.path.join('..', 'results')"
   ]
  },
  {
   "cell_type": "markdown",
   "id": "d43e61cc-0c15-4a35-8fa8-8b7b7d0b8fcd",
   "metadata": {},
   "source": [
    "## Load the data"
   ]
  },
  {
   "cell_type": "code",
   "execution_count": 3,
   "id": "f683bdb1-9f6d-4188-b5e8-ebc091e359c8",
   "metadata": {},
   "outputs": [
    {
     "name": "stdout",
     "output_type": "stream",
     "text": [
      "Size of the data: (183, 183)\n",
      "\n",
      "\n"
     ]
    },
    {
     "data": {
      "text/html": [
       "<div>\n",
       "<style scoped>\n",
       "    .dataframe tbody tr th:only-of-type {\n",
       "        vertical-align: middle;\n",
       "    }\n",
       "\n",
       "    .dataframe tbody tr th {\n",
       "        vertical-align: top;\n",
       "    }\n",
       "\n",
       "    .dataframe thead th {\n",
       "        text-align: right;\n",
       "    }\n",
       "</style>\n",
       "<table border=\"1\" class=\"dataframe\">\n",
       "  <thead>\n",
       "    <tr style=\"text-align: right;\">\n",
       "      <th></th>\n",
       "      <th>Accompagnant éducatif et social</th>\n",
       "      <th>Accompagnateur</th>\n",
       "      <th>Acheteur</th>\n",
       "      <th>Administration des ventes</th>\n",
       "      <th>Affrètement</th>\n",
       "      <th>Agent d'entretien</th>\n",
       "      <th>Agent d'exploitation</th>\n",
       "      <th>Agent de conditionnement</th>\n",
       "      <th>Agent de distribution</th>\n",
       "      <th>Agent de nettoyage</th>\n",
       "      <th>...</th>\n",
       "      <th>Tourneur / Fraiseur</th>\n",
       "      <th>Traducteur</th>\n",
       "      <th>Transaction immobilière</th>\n",
       "      <th>Transport de personnes</th>\n",
       "      <th>Trésorerie</th>\n",
       "      <th>Tuyauteur</th>\n",
       "      <th>Téléprospecteur</th>\n",
       "      <th>Veilleur de nuit</th>\n",
       "      <th>Vendeur</th>\n",
       "      <th>Éducateur de jeunes enfants</th>\n",
       "    </tr>\n",
       "  </thead>\n",
       "  <tbody>\n",
       "    <tr>\n",
       "      <th>Accompagnant éducatif et social</th>\n",
       "      <td>0.000000</td>\n",
       "      <td>8.860117e-01</td>\n",
       "      <td>9.523340e-01</td>\n",
       "      <td>0.973784</td>\n",
       "      <td>0.948005</td>\n",
       "      <td>0.928518</td>\n",
       "      <td>0.954346</td>\n",
       "      <td>0.911404</td>\n",
       "      <td>0.905557</td>\n",
       "      <td>0.951443</td>\n",
       "      <td>...</td>\n",
       "      <td>0.957611</td>\n",
       "      <td>0.934752</td>\n",
       "      <td>0.970609</td>\n",
       "      <td>0.936311</td>\n",
       "      <td>0.972936</td>\n",
       "      <td>0.981805</td>\n",
       "      <td>0.926984</td>\n",
       "      <td>0.913953</td>\n",
       "      <td>0.866023</td>\n",
       "      <td>0.911643</td>\n",
       "    </tr>\n",
       "    <tr>\n",
       "      <th>Accompagnateur</th>\n",
       "      <td>0.886012</td>\n",
       "      <td>6.661338e-16</td>\n",
       "      <td>8.686821e-01</td>\n",
       "      <td>0.923574</td>\n",
       "      <td>0.846880</td>\n",
       "      <td>0.803823</td>\n",
       "      <td>0.868062</td>\n",
       "      <td>0.747200</td>\n",
       "      <td>0.717061</td>\n",
       "      <td>0.856915</td>\n",
       "      <td>...</td>\n",
       "      <td>0.890211</td>\n",
       "      <td>0.798719</td>\n",
       "      <td>0.913931</td>\n",
       "      <td>0.794872</td>\n",
       "      <td>0.899793</td>\n",
       "      <td>0.950402</td>\n",
       "      <td>0.771103</td>\n",
       "      <td>0.759349</td>\n",
       "      <td>0.559454</td>\n",
       "      <td>0.736694</td>\n",
       "    </tr>\n",
       "    <tr>\n",
       "      <th>Acheteur</th>\n",
       "      <td>0.952334</td>\n",
       "      <td>8.686821e-01</td>\n",
       "      <td>3.330669e-16</td>\n",
       "      <td>0.845253</td>\n",
       "      <td>0.883147</td>\n",
       "      <td>0.921188</td>\n",
       "      <td>0.851287</td>\n",
       "      <td>0.877307</td>\n",
       "      <td>0.855435</td>\n",
       "      <td>0.946180</td>\n",
       "      <td>...</td>\n",
       "      <td>0.948237</td>\n",
       "      <td>0.858679</td>\n",
       "      <td>0.931354</td>\n",
       "      <td>0.904318</td>\n",
       "      <td>0.901190</td>\n",
       "      <td>0.973375</td>\n",
       "      <td>0.835645</td>\n",
       "      <td>0.894690</td>\n",
       "      <td>0.813790</td>\n",
       "      <td>0.891210</td>\n",
       "    </tr>\n",
       "    <tr>\n",
       "      <th>Administration des ventes</th>\n",
       "      <td>0.973784</td>\n",
       "      <td>9.235735e-01</td>\n",
       "      <td>8.452527e-01</td>\n",
       "      <td>0.000000</td>\n",
       "      <td>0.933263</td>\n",
       "      <td>0.965769</td>\n",
       "      <td>0.916444</td>\n",
       "      <td>0.966269</td>\n",
       "      <td>0.907542</td>\n",
       "      <td>0.980894</td>\n",
       "      <td>...</td>\n",
       "      <td>0.986450</td>\n",
       "      <td>0.809096</td>\n",
       "      <td>0.944427</td>\n",
       "      <td>0.951543</td>\n",
       "      <td>0.898500</td>\n",
       "      <td>0.994200</td>\n",
       "      <td>0.837032</td>\n",
       "      <td>0.949449</td>\n",
       "      <td>0.909478</td>\n",
       "      <td>0.944884</td>\n",
       "    </tr>\n",
       "    <tr>\n",
       "      <th>Affrètement</th>\n",
       "      <td>0.948005</td>\n",
       "      <td>8.468802e-01</td>\n",
       "      <td>8.831468e-01</td>\n",
       "      <td>0.933263</td>\n",
       "      <td>0.000000</td>\n",
       "      <td>0.889186</td>\n",
       "      <td>0.654325</td>\n",
       "      <td>0.776134</td>\n",
       "      <td>0.808432</td>\n",
       "      <td>0.915348</td>\n",
       "      <td>...</td>\n",
       "      <td>0.907087</td>\n",
       "      <td>0.903338</td>\n",
       "      <td>0.965863</td>\n",
       "      <td>0.840880</td>\n",
       "      <td>0.952993</td>\n",
       "      <td>0.951299</td>\n",
       "      <td>0.885537</td>\n",
       "      <td>0.862841</td>\n",
       "      <td>0.836880</td>\n",
       "      <td>0.863905</td>\n",
       "    </tr>\n",
       "  </tbody>\n",
       "</table>\n",
       "<p>5 rows × 183 columns</p>\n",
       "</div>"
      ],
      "text/plain": [
       "                                 Accompagnant éducatif et social  \\\n",
       "Accompagnant éducatif et social                         0.000000   \n",
       "Accompagnateur                                          0.886012   \n",
       "Acheteur                                                0.952334   \n",
       "Administration des ventes                               0.973784   \n",
       "Affrètement                                             0.948005   \n",
       "\n",
       "                                 Accompagnateur      Acheteur  \\\n",
       "Accompagnant éducatif et social    8.860117e-01  9.523340e-01   \n",
       "Accompagnateur                     6.661338e-16  8.686821e-01   \n",
       "Acheteur                           8.686821e-01  3.330669e-16   \n",
       "Administration des ventes          9.235735e-01  8.452527e-01   \n",
       "Affrètement                        8.468802e-01  8.831468e-01   \n",
       "\n",
       "                                 Administration des ventes  Affrètement  \\\n",
       "Accompagnant éducatif et social                   0.973784     0.948005   \n",
       "Accompagnateur                                    0.923574     0.846880   \n",
       "Acheteur                                          0.845253     0.883147   \n",
       "Administration des ventes                         0.000000     0.933263   \n",
       "Affrètement                                       0.933263     0.000000   \n",
       "\n",
       "                                 Agent d'entretien  Agent d'exploitation  \\\n",
       "Accompagnant éducatif et social           0.928518              0.954346   \n",
       "Accompagnateur                            0.803823              0.868062   \n",
       "Acheteur                                  0.921188              0.851287   \n",
       "Administration des ventes                 0.965769              0.916444   \n",
       "Affrètement                               0.889186              0.654325   \n",
       "\n",
       "                                 Agent de conditionnement  \\\n",
       "Accompagnant éducatif et social                  0.911404   \n",
       "Accompagnateur                                   0.747200   \n",
       "Acheteur                                         0.877307   \n",
       "Administration des ventes                        0.966269   \n",
       "Affrètement                                      0.776134   \n",
       "\n",
       "                                 Agent de distribution  Agent de nettoyage  \\\n",
       "Accompagnant éducatif et social               0.905557            0.951443   \n",
       "Accompagnateur                                0.717061            0.856915   \n",
       "Acheteur                                      0.855435            0.946180   \n",
       "Administration des ventes                     0.907542            0.980894   \n",
       "Affrètement                                   0.808432            0.915348   \n",
       "\n",
       "                                 ...  Tourneur / Fraiseur  Traducteur  \\\n",
       "Accompagnant éducatif et social  ...             0.957611    0.934752   \n",
       "Accompagnateur                   ...             0.890211    0.798719   \n",
       "Acheteur                         ...             0.948237    0.858679   \n",
       "Administration des ventes        ...             0.986450    0.809096   \n",
       "Affrètement                      ...             0.907087    0.903338   \n",
       "\n",
       "                                 Transaction immobilière  \\\n",
       "Accompagnant éducatif et social                 0.970609   \n",
       "Accompagnateur                                  0.913931   \n",
       "Acheteur                                        0.931354   \n",
       "Administration des ventes                       0.944427   \n",
       "Affrètement                                     0.965863   \n",
       "\n",
       "                                 Transport de personnes  Trésorerie  \\\n",
       "Accompagnant éducatif et social                0.936311    0.972936   \n",
       "Accompagnateur                                 0.794872    0.899793   \n",
       "Acheteur                                       0.904318    0.901190   \n",
       "Administration des ventes                      0.951543    0.898500   \n",
       "Affrètement                                    0.840880    0.952993   \n",
       "\n",
       "                                 Tuyauteur  Téléprospecteur  Veilleur de nuit  \\\n",
       "Accompagnant éducatif et social   0.981805         0.926984          0.913953   \n",
       "Accompagnateur                    0.950402         0.771103          0.759349   \n",
       "Acheteur                          0.973375         0.835645          0.894690   \n",
       "Administration des ventes         0.994200         0.837032          0.949449   \n",
       "Affrètement                       0.951299         0.885537          0.862841   \n",
       "\n",
       "                                  Vendeur  Éducateur de jeunes enfants  \n",
       "Accompagnant éducatif et social  0.866023                     0.911643  \n",
       "Accompagnateur                   0.559454                     0.736694  \n",
       "Acheteur                         0.813790                     0.891210  \n",
       "Administration des ventes        0.909478                     0.944884  \n",
       "Affrètement                      0.836880                     0.863905  \n",
       "\n",
       "[5 rows x 183 columns]"
      ]
     },
     "execution_count": 3,
     "metadata": {},
     "output_type": "execute_result"
    }
   ],
   "source": [
    "cosine_distances = pd.read_csv(os.path.join(RESULTS, 'cosine-distances.csv'), index_col=0)\n",
    "\n",
    "print(f'Size of the data: {cosine_distances.shape}\\n\\n')\n",
    "cosine_distances.head()"
   ]
  },
  {
   "cell_type": "markdown",
   "id": "c1cdde3f-1113-4058-929e-f1c5d71d2d25",
   "metadata": {},
   "source": [
    "# Step 1: Visualize the data"
   ]
  },
  {
   "cell_type": "markdown",
   "id": "2854d835-9c16-4556-859a-97dfdcf6f642",
   "metadata": {},
   "source": [
    "### Using Multidimensional scaling prjection (MDS)"
   ]
  },
  {
   "cell_type": "code",
   "execution_count": 4,
   "id": "b1d281df-e7a3-4443-a485-ecb8d50a162d",
   "metadata": {},
   "outputs": [
    {
     "data": {
      "text/plain": [
       "<matplotlib.collections.PathCollection at 0x7f7fa8353130>"
      ]
     },
     "execution_count": 4,
     "metadata": {},
     "output_type": "execute_result"
    },
    {
     "data": {
      "image/png": "[encoded data removed]",
      "text/plain": [
       "<Figure size 432x288 with 1 Axes>"
      ]
     },
     "metadata": {},
     "output_type": "display_data"
    }
   ],
   "source": [
    "mds = MDS(n_components=2, dissimilarity='precomputed', random_state=50)\n",
    "mds_projection = mds.fit_transform(cosine_distances)\n",
    "plt.scatter(*mds_projection.T, color='b', **plot_kwds)"
   ]
  },
  {
   "cell_type": "markdown",
   "id": "b4448353-cd94-47c3-be6e-99e78986f893",
   "metadata": {},
   "source": [
    "Here, we can barely observe some very small clusters."
   ]
  },
  {
   "cell_type": "markdown",
   "id": "4bb8489a-da6a-40d0-b43a-7d7a5570a50a",
   "metadata": {},
   "source": [
    "### Using T-distributed Stochastic Neighbor Embedding (TSNE)"
   ]
  },
  {
   "cell_type": "code",
   "execution_count": 5,
   "id": "971f07b8-0b7b-4093-8c1a-da83fec8121f",
   "metadata": {},
   "outputs": [
    {
     "name": "stderr",
     "output_type": "stream",
     "text": [
      "/home/ariel/anaconda3/envs/gojob/lib/python3.9/site-packages/sklearn/manifold/_t_sne.py:780: FutureWarning: The default initialization in TSNE will change from 'random' to 'pca' in 1.2.\n",
      "  warnings.warn(\n",
      "/home/ariel/anaconda3/envs/gojob/lib/python3.9/site-packages/sklearn/manifold/_t_sne.py:790: FutureWarning: The default learning rate in TSNE will change from 200.0 to 'auto' in 1.2.\n",
      "  warnings.warn(\n",
      "/home/ariel/anaconda3/envs/gojob/lib/python3.9/site-packages/sklearn/manifold/_t_sne.py:819: FutureWarning: 'square_distances' has been introduced in 0.24 to help phase out legacy squaring behavior. The 'legacy' setting will be removed in 1.1 (renaming of 0.26), and the default setting will be changed to True. In 1.3, 'square_distances' will be removed altogether, and distances will be squared by default. Set 'square_distances'=True to silence this warning.\n",
      "  warnings.warn(\n"
     ]
    },
    {
     "data": {
      "text/plain": [
       "<matplotlib.collections.PathCollection at 0x7f7fa8255670>"
      ]
     },
     "execution_count": 5,
     "metadata": {},
     "output_type": "execute_result"
    },
    {
     "data": {
      "image/png": "[encoded data removed]",
      "text/plain": [
       "<Figure size 432x288 with 1 Axes>"
      ]
     },
     "metadata": {},
     "output_type": "display_data"
    }
   ],
   "source": [
    "tsne = TSNE(n_components=2, metric='precomputed',random_state=50)\n",
    "tsne_projection = tsne.fit_transform(cosine_distances)\n",
    "plt.scatter(*tsne_projection.T, color='b', **plot_kwds)"
   ]
  },
  {
   "cell_type": "markdown",
   "id": "aa2950aa-b82b-45c6-8a76-4087a36d2682",
   "metadata": {},
   "source": [
    "TSNE being a stochastic method, several runs could be necessary to obtain an apropriate result (visualization).\n",
    "\n",
    "Unlike with MSD, here, we can observe some clearer cluster structures within the data.\n",
    "\n",
    "Let's explore this clusters in the following part."
   ]
  },
  {
   "cell_type": "markdown",
   "id": "6f4c6e5b-9223-4f22-94a3-e14136fbbce3",
   "metadata": {
    "tags": []
   },
   "source": [
    "# Step 2: Cluster the data"
   ]
  },
  {
   "cell_type": "code",
   "execution_count": 6,
   "id": "3420fe0f-c286-46f7-91a4-207c5546ae79",
   "metadata": {},
   "outputs": [
    {
     "name": "stdout",
     "output_type": "stream",
     "text": [
      "CPU times: user 548 ms, sys: 7.75 ms, total: 555 ms\n",
      "Wall time: 38.1 ms\n"
     ]
    },
    {
     "name": "stderr",
     "output_type": "stream",
     "text": [
      "/home/ariel/anaconda3/envs/gojob/lib/python3.9/site-packages/hdbscan/hdbscan_.py:967: UserWarning: Cannot generate prediction data for non-vectorspace inputs -- access to the source data ratherthan mere distances is required!\n",
      "  warn('Cannot generate prediction data for non-vector'\n"
     ]
    },
    {
     "data": {
      "text/plain": [
       "HDBSCAN(gen_min_span_tree=True, metric='precomputed', min_cluster_size=2,\n",
       "        min_samples=1, prediction_data=True)"
      ]
     },
     "execution_count": 6,
     "metadata": {},
     "output_type": "execute_result"
    }
   ],
   "source": [
    "%%time\n",
    "# epsilon = math.cos(math.pi/4) # angle = pi / 12 = 15 degrees below which we consider to group professions\n",
    "\n",
    "clusterer = hdbscan.HDBSCAN(min_cluster_size=2,\n",
    "                            min_samples=1,\n",
    "                            cluster_selection_method='eom',\n",
    "                            # cluster_selection_epsilon=epsilon,\n",
    "                            prediction_data=True,\n",
    "                            gen_min_span_tree=True,\n",
    "                            metric='precomputed')\n",
    "clusterer.fit(cosine_distances)"
   ]
  },
  {
   "cell_type": "markdown",
   "id": "7abdfdab-bc5d-41db-85c2-c2f55bd2e250",
   "metadata": {},
   "source": [
    "### We can see the different clusters ids"
   ]
  },
  {
   "cell_type": "code",
   "execution_count": 7,
   "id": "a215997c-7dad-4418-a398-310204a681b5",
   "metadata": {},
   "outputs": [
    {
     "data": {
      "text/plain": [
       "array([-1,  0,  1,  2,  3,  4,  5,  6,  7,  8,  9, 10, 11, 12, 13, 14, 15,\n",
       "       16, 17, 18, 19, 20, 21, 22, 23, 24, 25, 26])"
      ]
     },
     "execution_count": 7,
     "metadata": {},
     "output_type": "execute_result"
    }
   ],
   "source": [
    "np.unique(clusterer.labels_)"
   ]
  },
  {
   "cell_type": "markdown",
   "id": "82be530f-3380-4da8-8dfb-7fe3ddfe844c",
   "metadata": {},
   "source": [
    "# Step 3: Build and visualize the cluster hierarchy"
   ]
  },
  {
   "cell_type": "code",
   "execution_count": 8,
   "id": "520b6ef1-5ca9-4b37-b3e6-9dd4ed6dc301",
   "metadata": {},
   "outputs": [
    {
     "data": {
      "text/plain": [
       "<AxesSubplot:ylabel='distance'>"
      ]
     },
     "execution_count": 8,
     "metadata": {},
     "output_type": "execute_result"
    },
    {
     "data": {
      "image/png": "[encoded data removed]",
      "text/plain": [
       "<Figure size 1440x720 with 2 Axes>"
      ]
     },
     "metadata": {},
     "output_type": "display_data"
    }
   ],
   "source": [
    "plt.figure(figsize=(20, 10))\n",
    "clusterer.single_linkage_tree_.plot(cmap='viridis', colorbar=True)"
   ]
  },
  {
   "cell_type": "markdown",
   "id": "253fdc0c-11a2-4f03-9cc8-b77566e085ea",
   "metadata": {},
   "source": [
    "# Step 4: Condense and visaualize the cluster tree"
   ]
  },
  {
   "cell_type": "code",
   "execution_count": 9,
   "id": "f90157d2-67c8-4cee-ab52-49e412ac4707",
   "metadata": {},
   "outputs": [
    {
     "data": {
      "text/plain": [
       "<AxesSubplot:ylabel='$\\\\lambda$ value'>"
      ]
     },
     "execution_count": 9,
     "metadata": {},
     "output_type": "execute_result"
    },
    {
     "data": {
      "image/png": "[encoded data removed]",
      "text/plain": [
       "<Figure size 1440x720 with 2 Axes>"
      ]
     },
     "metadata": {},
     "output_type": "display_data"
    }
   ],
   "source": [
    "plt.figure(figsize=(20, 10))\n",
    "clusterer.condensed_tree_.plot()"
   ]
  },
  {
   "cell_type": "markdown",
   "id": "cdd26ba6-d00d-495f-99ab-9f54be3508e5",
   "metadata": {},
   "source": [
    "# Step 5: Extract and visualize the clusters"
   ]
  },
  {
   "cell_type": "code",
   "execution_count": 10,
   "id": "3f3106a9-9112-4457-8174-47cbdb6751b9",
   "metadata": {},
   "outputs": [
    {
     "data": {
      "text/plain": [
       "<AxesSubplot:ylabel='$\\\\lambda$ value'>"
      ]
     },
     "execution_count": 10,
     "metadata": {},
     "output_type": "execute_result"
    },
    {
     "data": {
      "image/png": "[encoded data removed]",
      "text/plain": [
       "<Figure size 1440x720 with 2 Axes>"
      ]
     },
     "metadata": {},
     "output_type": "display_data"
    }
   ],
   "source": [
    "plt.figure(figsize=(20, 10))\n",
    "clusterer.condensed_tree_.plot(select_clusters=True, selection_palette=sns.color_palette(\"hls\", len(np.unique(clusterer.labels_))))"
   ]
  },
  {
   "cell_type": "markdown",
   "id": "f102e6d4-fb61-4d8b-8a10-acaddfbf3660",
   "metadata": {},
   "source": [
    "### Using Multidimensional scaling prjection (MDS)"
   ]
  },
  {
   "cell_type": "code",
   "execution_count": 11,
   "id": "aff67b5d-bdb7-4e43-9505-7a35c8c21b34",
   "metadata": {},
   "outputs": [
    {
     "data": {
      "text/plain": [
       "<matplotlib.collections.PathCollection at 0x7f7f808671c0>"
      ]
     },
     "execution_count": 11,
     "metadata": {},
     "output_type": "execute_result"
    },
    {
     "data": {
      "image/png": "[encoded data removed]",
      "text/plain": [
       "<Figure size 432x288 with 1 Axes>"
      ]
     },
     "metadata": {},
     "output_type": "display_data"
    }
   ],
   "source": [
    "palette = sns.color_palette(\"hls\", len(np.unique(clusterer.labels_)))\n",
    "cluster_colors = [sns.desaturate(palette[col], sat) if col >= 0 else (0.5, 0.5, 0.5) for col, sat in zip(clusterer.labels_, clusterer.probabilities_)]\n",
    "plt.scatter(*mds_projection.T, c=cluster_colors, **plot_kwds)"
   ]
  },
  {
   "cell_type": "markdown",
   "id": "5db84ad1-745b-4e0d-b03e-df38bdcf3054",
   "metadata": {},
   "source": [
    "### Using T-distributed Stochastic Neighbor Embedding (TSNE)"
   ]
  },
  {
   "cell_type": "code",
   "execution_count": 12,
   "id": "dcdd18ad-80e4-4399-9492-69c33415b7f4",
   "metadata": {},
   "outputs": [
    {
     "data": {
      "text/plain": [
       "<matplotlib.collections.PathCollection at 0x7f7f8083b4c0>"
      ]
     },
     "execution_count": 12,
     "metadata": {},
     "output_type": "execute_result"
    },
    {
     "data": {
      "image/png": "[encoded data removed]",
      "text/plain": [
       "<Figure size 432x288 with 1 Axes>"
      ]
     },
     "metadata": {},
     "output_type": "display_data"
    }
   ],
   "source": [
    "cluster_colors = [sns.desaturate(palette[col], sat) if col >= 0 else (0.5, 0.5, 0.5) for col, sat in zip(clusterer.labels_, clusterer.probabilities_)]\n",
    "plt.scatter(*tsne_projection.T, c=cluster_colors, **plot_kwds)"
   ]
  },
  {
   "cell_type": "markdown",
   "id": "c9a10d0f-d599-4ea6-85d4-6a1381dd2fe8",
   "metadata": {},
   "source": [
    "**With both visualizations, we can observe the created clusters in colors.**\n",
    "\n",
    "**The clusters are of various size, but are all very small.**\n",
    "\n",
    "**Most of the professions are not clustered.**"
   ]
  },
  {
   "cell_type": "markdown",
   "id": "29cf5eb7-e8f4-456d-816b-07766dc26921",
   "metadata": {},
   "source": [
    "# Step 6: Get clusters representative\n",
    "\n",
    "Here, we extract the clusters most representative professsions.\n",
    "\n",
    "Indeed, HDBSCAN uses soft clustering, so some points are associated with the clusters with more or less strengths.\n",
    "\n",
    "So, we just extract the examplars points of the clusters, that are in fact, the ones at their heart. They are the points associated with the clusters with higher strength.\n",
    "\n",
    "Consequently, these examplars points represent the professions with stronger association."
   ]
  },
  {
   "cell_type": "code",
   "execution_count": 13,
   "id": "729548af-7212-407c-9937-dbd30cc4bd8e",
   "metadata": {},
   "outputs": [],
   "source": [
    "def get_clusters_professions(clusterer, profession_list):\n",
    "    \"\"\" \n",
    "    Get all the associated documents per topic.\n",
    "    \n",
    "    Arguments:\n",
    "        clusterer: the hdbscan clusterer model\n",
    "        profession_list: the list of the professions\n",
    "    \"\"\"\n",
    "    \n",
    "    labels = clusterer.labels_\n",
    "    professions_per_cluster = {}\n",
    "    \n",
    "    for cluster in list(np.unique(clusterer.labels_)):\n",
    "        if cluster != -1:\n",
    "            # get the professions ids\n",
    "            pos = np.where(np.array(labels) == cluster)[0].tolist()\n",
    "            professions_accessed_array = np.array(profession_list)[pos]\n",
    "            professions_per_cluster[cluster] = list(professions_accessed_array)\n",
    "            \n",
    "    professions_per_cluster = pd.DataFrame(professions_per_cluster.items(), columns=['cluster', 'professions'])\n",
    "    professions_per_cluster['size'] = professions_per_cluster['professions'].apply(lambda x: len(x))\n",
    "    professions_per_cluster = professions_per_cluster.sort_values('size', ascending=False)\n",
    "    professions_per_cluster = professions_per_cluster[professions_per_cluster['size'] > 1]\n",
    "    professions_per_cluster = professions_per_cluster.reset_index(drop=True)\n",
    "            \n",
    "    return professions_per_cluster\n",
    "\n",
    "\n",
    "def get_representative(clusterer, profession_list):\n",
    "    \"\"\" \n",
    "    Get the most representative professions per topic\n",
    "    The most representative docs are extracted by taking\n",
    "    the exemplars from the HDBSCAN-generated clusters.\n",
    "    \n",
    "    Full instructions can be found here:\n",
    "        https://hdbscan.readthedocs.io/en/latest/soft_clustering_explanation.html\n",
    "        \n",
    "    Arguments:\n",
    "        clusterer: the hdbscan clusterer model\n",
    "        profession_list: the list of the professions\n",
    "    \"\"\"\n",
    "    \n",
    "    # Prepare the condensed tree and luf clusters beneath a given cluster\n",
    "    condensed_tree = clusterer.condensed_tree_\n",
    "    raw_tree = condensed_tree._raw_tree\n",
    "    clusters = sorted(condensed_tree._select_clusters())\n",
    "    cluster_tree = raw_tree[raw_tree['child_size'] > 1]\n",
    "    #  Find the points with maximum lambda value in each leaf\n",
    "    representative_docs = {}\n",
    "    for cluster in list(np.unique(clusterer.labels_)):\n",
    "        if cluster != -1:\n",
    "            leaves = hdbscan.plots._recurse_leaf_dfs(cluster_tree, clusters[cluster])\n",
    "            result = np.array([])\n",
    "            for leaf in leaves:\n",
    "                max_lambda = raw_tree['lambda_val'][raw_tree['parent'] == leaf].max()\n",
    "                points = raw_tree['child'][(raw_tree['parent'] == leaf) & (raw_tree['lambda_val'] == max_lambda)]\n",
    "                result = np.hstack((result, points))\n",
    "            representative_docs[cluster] = result.astype(int)\n",
    "    # Convert indices to professions\n",
    "    representative_professions_per_cluster = {cluster: [profession_list[doc_id] for doc_id in doc_ids]\n",
    "                      for cluster, doc_ids in representative_docs.items()}\n",
    "    \n",
    "    representative_professions_per_cluster = pd.DataFrame(representative_professions_per_cluster.items(), columns=['cluster', 'professions'])\n",
    "    representative_professions_per_cluster['size'] = representative_professions_per_cluster['professions'].apply(lambda x: len(x))\n",
    "    representative_professions_per_cluster = representative_professions_per_cluster.sort_values('size', ascending=False)\n",
    "    representative_professions_per_cluster = representative_professions_per_cluster[representative_professions_per_cluster['size'] > 1]\n",
    "    representative_professions_per_cluster = representative_professions_per_cluster.reset_index(drop=True)\n",
    "    \n",
    "    return representative_professions_per_cluster"
   ]
  },
  {
   "cell_type": "code",
   "execution_count": 14,
   "id": "8d12f135-a0a8-4b05-bb93-e9cee479af9e",
   "metadata": {},
   "outputs": [],
   "source": [
    "profession_list = list(cosine_distances.columns)\n",
    "professions_per_cluster = get_clusters_professions(clusterer, profession_list)\n",
    "representative_professions_per_cluster = get_representative(clusterer, profession_list)"
   ]
  },
  {
   "cell_type": "code",
   "execution_count": 15,
   "id": "89feee96-720e-4e66-a82d-73beb9d8c7e2",
   "metadata": {},
   "outputs": [
    {
     "data": {
      "text/html": [
       "<div>\n",
       "<style scoped>\n",
       "    .dataframe tbody tr th:only-of-type {\n",
       "        vertical-align: middle;\n",
       "    }\n",
       "\n",
       "    .dataframe tbody tr th {\n",
       "        vertical-align: top;\n",
       "    }\n",
       "\n",
       "    .dataframe thead th {\n",
       "        text-align: right;\n",
       "    }\n",
       "</style>\n",
       "<table border=\"1\" class=\"dataframe\">\n",
       "  <thead>\n",
       "    <tr style=\"text-align: right;\">\n",
       "      <th></th>\n",
       "      <th>cluster</th>\n",
       "      <th>professions</th>\n",
       "      <th>size</th>\n",
       "    </tr>\n",
       "  </thead>\n",
       "  <tbody>\n",
       "    <tr>\n",
       "      <th>0</th>\n",
       "      <td>25</td>\n",
       "      <td>[Chauffeur VL, Déménageur, Hotliner, Manoeuvre...</td>\n",
       "      <td>7</td>\n",
       "    </tr>\n",
       "    <tr>\n",
       "      <th>1</th>\n",
       "      <td>12</td>\n",
       "      <td>[Chef d'atelier, Electromécanicien, Electronic...</td>\n",
       "      <td>7</td>\n",
       "    </tr>\n",
       "    <tr>\n",
       "      <th>2</th>\n",
       "      <td>14</td>\n",
       "      <td>[Auditeur comptable, Comptable clients, Compta...</td>\n",
       "      <td>6</td>\n",
       "    </tr>\n",
       "    <tr>\n",
       "      <th>3</th>\n",
       "      <td>6</td>\n",
       "      <td>[Infirmier, Infirmier anesthésiste, Infirmier ...</td>\n",
       "      <td>5</td>\n",
       "    </tr>\n",
       "    <tr>\n",
       "      <th>4</th>\n",
       "      <td>23</td>\n",
       "      <td>[Jardinier, Maçon, Nacelliste, Paysagiste]</td>\n",
       "      <td>4</td>\n",
       "    </tr>\n",
       "    <tr>\n",
       "      <th>5</th>\n",
       "      <td>20</td>\n",
       "      <td>[Chargé d'affaires, Chargé de clientèle, Comme...</td>\n",
       "      <td>4</td>\n",
       "    </tr>\n",
       "    <tr>\n",
       "      <th>6</th>\n",
       "      <td>26</td>\n",
       "      <td>[Agent de conditionnement, Manutentionnaire, P...</td>\n",
       "      <td>3</td>\n",
       "    </tr>\n",
       "    <tr>\n",
       "      <th>7</th>\n",
       "      <td>16</td>\n",
       "      <td>[Assistant de direction, Assistant polyvalent ...</td>\n",
       "      <td>3</td>\n",
       "    </tr>\n",
       "    <tr>\n",
       "      <th>8</th>\n",
       "      <td>24</td>\n",
       "      <td>[Cariste, Magasinier, Réceptionnaire]</td>\n",
       "      <td>3</td>\n",
       "    </tr>\n",
       "    <tr>\n",
       "      <th>9</th>\n",
       "      <td>21</td>\n",
       "      <td>[Animateur de ventes / Promotion, Artistique, ...</td>\n",
       "      <td>3</td>\n",
       "    </tr>\n",
       "    <tr>\n",
       "      <th>10</th>\n",
       "      <td>8</td>\n",
       "      <td>[Chef de projet, Ingénieur, Pharmacien]</td>\n",
       "      <td>3</td>\n",
       "    </tr>\n",
       "    <tr>\n",
       "      <th>11</th>\n",
       "      <td>19</td>\n",
       "      <td>[Echafaudeur, Electricien, Radiologue]</td>\n",
       "      <td>3</td>\n",
       "    </tr>\n",
       "    <tr>\n",
       "      <th>12</th>\n",
       "      <td>11</td>\n",
       "      <td>[Affrètement, Agent d'exploitation, Agent de t...</td>\n",
       "      <td>3</td>\n",
       "    </tr>\n",
       "    <tr>\n",
       "      <th>13</th>\n",
       "      <td>18</td>\n",
       "      <td>[Opérateur commandes numériques, Soudeur, Tuya...</td>\n",
       "      <td>3</td>\n",
       "    </tr>\n",
       "    <tr>\n",
       "      <th>14</th>\n",
       "      <td>17</td>\n",
       "      <td>[Formation et carrière, RH, Recrutement]</td>\n",
       "      <td>3</td>\n",
       "    </tr>\n",
       "    <tr>\n",
       "      <th>15</th>\n",
       "      <td>22</td>\n",
       "      <td>[Charpentier, Plaquiste]</td>\n",
       "      <td>2</td>\n",
       "    </tr>\n",
       "    <tr>\n",
       "      <th>16</th>\n",
       "      <td>0</td>\n",
       "      <td>[Ouvrier Technicien, Technicien de laboratoire]</td>\n",
       "      <td>2</td>\n",
       "    </tr>\n",
       "    <tr>\n",
       "      <th>17</th>\n",
       "      <td>15</td>\n",
       "      <td>[Assistant comptable, Comptable spécialisé]</td>\n",
       "      <td>2</td>\n",
       "    </tr>\n",
       "    <tr>\n",
       "      <th>18</th>\n",
       "      <td>1</td>\n",
       "      <td>[Accompagnant éducatif et social, Aide soignant]</td>\n",
       "      <td>2</td>\n",
       "    </tr>\n",
       "    <tr>\n",
       "      <th>19</th>\n",
       "      <td>10</td>\n",
       "      <td>[Chef d'équipe logistique, Management industriel]</td>\n",
       "      <td>2</td>\n",
       "    </tr>\n",
       "    <tr>\n",
       "      <th>20</th>\n",
       "      <td>9</td>\n",
       "      <td>[Agent d'entretien, Agent de nettoyage]</td>\n",
       "      <td>2</td>\n",
       "    </tr>\n",
       "    <tr>\n",
       "      <th>21</th>\n",
       "      <td>7</td>\n",
       "      <td>[Manipulateur radio, Technicien d'analyse biom...</td>\n",
       "      <td>2</td>\n",
       "    </tr>\n",
       "    <tr>\n",
       "      <th>22</th>\n",
       "      <td>5</td>\n",
       "      <td>[Expert réseaux, Informaticien]</td>\n",
       "      <td>2</td>\n",
       "    </tr>\n",
       "    <tr>\n",
       "      <th>23</th>\n",
       "      <td>4</td>\n",
       "      <td>[Chauffeur SPL messagerie, Chauffeur SPL natio...</td>\n",
       "      <td>2</td>\n",
       "    </tr>\n",
       "    <tr>\n",
       "      <th>24</th>\n",
       "      <td>3</td>\n",
       "      <td>[Chauffeur PL messagerie, Chauffeur PL nationa...</td>\n",
       "      <td>2</td>\n",
       "    </tr>\n",
       "    <tr>\n",
       "      <th>25</th>\n",
       "      <td>2</td>\n",
       "      <td>[Chercheur, Médecin généraliste]</td>\n",
       "      <td>2</td>\n",
       "    </tr>\n",
       "    <tr>\n",
       "      <th>26</th>\n",
       "      <td>13</td>\n",
       "      <td>[Enseignant, Pédiatre]</td>\n",
       "      <td>2</td>\n",
       "    </tr>\n",
       "  </tbody>\n",
       "</table>\n",
       "</div>"
      ],
      "text/plain": [
       "    cluster                                        professions  size\n",
       "0        25  [Chauffeur VL, Déménageur, Hotliner, Manoeuvre...     7\n",
       "1        12  [Chef d'atelier, Electromécanicien, Electronic...     7\n",
       "2        14  [Auditeur comptable, Comptable clients, Compta...     6\n",
       "3         6  [Infirmier, Infirmier anesthésiste, Infirmier ...     5\n",
       "4        23         [Jardinier, Maçon, Nacelliste, Paysagiste]     4\n",
       "5        20  [Chargé d'affaires, Chargé de clientèle, Comme...     4\n",
       "6        26  [Agent de conditionnement, Manutentionnaire, P...     3\n",
       "7        16  [Assistant de direction, Assistant polyvalent ...     3\n",
       "8        24              [Cariste, Magasinier, Réceptionnaire]     3\n",
       "9        21  [Animateur de ventes / Promotion, Artistique, ...     3\n",
       "10        8            [Chef de projet, Ingénieur, Pharmacien]     3\n",
       "11       19             [Echafaudeur, Electricien, Radiologue]     3\n",
       "12       11  [Affrètement, Agent d'exploitation, Agent de t...     3\n",
       "13       18  [Opérateur commandes numériques, Soudeur, Tuya...     3\n",
       "14       17           [Formation et carrière, RH, Recrutement]     3\n",
       "15       22                           [Charpentier, Plaquiste]     2\n",
       "16        0    [Ouvrier Technicien, Technicien de laboratoire]     2\n",
       "17       15        [Assistant comptable, Comptable spécialisé]     2\n",
       "18        1   [Accompagnant éducatif et social, Aide soignant]     2\n",
       "19       10  [Chef d'équipe logistique, Management industriel]     2\n",
       "20        9            [Agent d'entretien, Agent de nettoyage]     2\n",
       "21        7  [Manipulateur radio, Technicien d'analyse biom...     2\n",
       "22        5                    [Expert réseaux, Informaticien]     2\n",
       "23        4  [Chauffeur SPL messagerie, Chauffeur SPL natio...     2\n",
       "24        3  [Chauffeur PL messagerie, Chauffeur PL nationa...     2\n",
       "25        2                   [Chercheur, Médecin généraliste]     2\n",
       "26       13                             [Enseignant, Pédiatre]     2"
      ]
     },
     "execution_count": 15,
     "metadata": {},
     "output_type": "execute_result"
    }
   ],
   "source": [
    "professions_per_cluster"
   ]
  },
  {
   "cell_type": "code",
   "execution_count": 16,
   "id": "920a672b-4c35-409b-8b37-26582274cd3e",
   "metadata": {},
   "outputs": [
    {
     "data": {
      "text/html": [
       "<div>\n",
       "<style scoped>\n",
       "    .dataframe tbody tr th:only-of-type {\n",
       "        vertical-align: middle;\n",
       "    }\n",
       "\n",
       "    .dataframe tbody tr th {\n",
       "        vertical-align: top;\n",
       "    }\n",
       "\n",
       "    .dataframe thead th {\n",
       "        text-align: right;\n",
       "    }\n",
       "</style>\n",
       "<table border=\"1\" class=\"dataframe\">\n",
       "  <thead>\n",
       "    <tr style=\"text-align: right;\">\n",
       "      <th></th>\n",
       "      <th>cluster</th>\n",
       "      <th>professions</th>\n",
       "      <th>size</th>\n",
       "    </tr>\n",
       "  </thead>\n",
       "  <tbody>\n",
       "    <tr>\n",
       "      <th>0</th>\n",
       "      <td>0</td>\n",
       "      <td>[Ouvrier Technicien, Technicien de laboratoire]</td>\n",
       "      <td>2</td>\n",
       "    </tr>\n",
       "    <tr>\n",
       "      <th>1</th>\n",
       "      <td>14</td>\n",
       "      <td>[Comptable clients, Comptable fournisseurs]</td>\n",
       "      <td>2</td>\n",
       "    </tr>\n",
       "    <tr>\n",
       "      <th>2</th>\n",
       "      <td>25</td>\n",
       "      <td>[Déménageur, Postier]</td>\n",
       "      <td>2</td>\n",
       "    </tr>\n",
       "    <tr>\n",
       "      <th>3</th>\n",
       "      <td>24</td>\n",
       "      <td>[Réceptionnaire, Magasinier]</td>\n",
       "      <td>2</td>\n",
       "    </tr>\n",
       "    <tr>\n",
       "      <th>4</th>\n",
       "      <td>23</td>\n",
       "      <td>[Jardinier, Maçon]</td>\n",
       "      <td>2</td>\n",
       "    </tr>\n",
       "    <tr>\n",
       "      <th>5</th>\n",
       "      <td>22</td>\n",
       "      <td>[Charpentier, Plaquiste]</td>\n",
       "      <td>2</td>\n",
       "    </tr>\n",
       "    <tr>\n",
       "      <th>6</th>\n",
       "      <td>21</td>\n",
       "      <td>[Vendeur, Artistique]</td>\n",
       "      <td>2</td>\n",
       "    </tr>\n",
       "    <tr>\n",
       "      <th>7</th>\n",
       "      <td>20</td>\n",
       "      <td>[Chargé d'affaires, Chargé de clientèle]</td>\n",
       "      <td>2</td>\n",
       "    </tr>\n",
       "    <tr>\n",
       "      <th>8</th>\n",
       "      <td>19</td>\n",
       "      <td>[Radiologue, Electricien]</td>\n",
       "      <td>2</td>\n",
       "    </tr>\n",
       "    <tr>\n",
       "      <th>9</th>\n",
       "      <td>18</td>\n",
       "      <td>[Opérateur commandes numériques, Soudeur]</td>\n",
       "      <td>2</td>\n",
       "    </tr>\n",
       "    <tr>\n",
       "      <th>10</th>\n",
       "      <td>17</td>\n",
       "      <td>[Recrutement, Formation et carrière]</td>\n",
       "      <td>2</td>\n",
       "    </tr>\n",
       "    <tr>\n",
       "      <th>11</th>\n",
       "      <td>16</td>\n",
       "      <td>[Assistant de direction, Assistant polyvalent ...</td>\n",
       "      <td>2</td>\n",
       "    </tr>\n",
       "    <tr>\n",
       "      <th>12</th>\n",
       "      <td>15</td>\n",
       "      <td>[Assistant comptable, Comptable spécialisé]</td>\n",
       "      <td>2</td>\n",
       "    </tr>\n",
       "    <tr>\n",
       "      <th>13</th>\n",
       "      <td>13</td>\n",
       "      <td>[Enseignant, Pédiatre]</td>\n",
       "      <td>2</td>\n",
       "    </tr>\n",
       "    <tr>\n",
       "      <th>14</th>\n",
       "      <td>1</td>\n",
       "      <td>[Accompagnant éducatif et social, Aide soignant]</td>\n",
       "      <td>2</td>\n",
       "    </tr>\n",
       "    <tr>\n",
       "      <th>15</th>\n",
       "      <td>12</td>\n",
       "      <td>[Electromécanicien, Electronicien]</td>\n",
       "      <td>2</td>\n",
       "    </tr>\n",
       "    <tr>\n",
       "      <th>16</th>\n",
       "      <td>11</td>\n",
       "      <td>[Agent d'exploitation, Agent de transit]</td>\n",
       "      <td>2</td>\n",
       "    </tr>\n",
       "    <tr>\n",
       "      <th>17</th>\n",
       "      <td>10</td>\n",
       "      <td>[Chef d'équipe logistique, Management industriel]</td>\n",
       "      <td>2</td>\n",
       "    </tr>\n",
       "    <tr>\n",
       "      <th>18</th>\n",
       "      <td>9</td>\n",
       "      <td>[Agent d'entretien, Agent de nettoyage]</td>\n",
       "      <td>2</td>\n",
       "    </tr>\n",
       "    <tr>\n",
       "      <th>19</th>\n",
       "      <td>8</td>\n",
       "      <td>[Pharmacien, Ingénieur]</td>\n",
       "      <td>2</td>\n",
       "    </tr>\n",
       "    <tr>\n",
       "      <th>20</th>\n",
       "      <td>7</td>\n",
       "      <td>[Manipulateur radio, Technicien d'analyse biom...</td>\n",
       "      <td>2</td>\n",
       "    </tr>\n",
       "    <tr>\n",
       "      <th>21</th>\n",
       "      <td>6</td>\n",
       "      <td>[Infirmier préleveur, Infirmier bloc opératoire]</td>\n",
       "      <td>2</td>\n",
       "    </tr>\n",
       "    <tr>\n",
       "      <th>22</th>\n",
       "      <td>5</td>\n",
       "      <td>[Expert réseaux, Informaticien]</td>\n",
       "      <td>2</td>\n",
       "    </tr>\n",
       "    <tr>\n",
       "      <th>23</th>\n",
       "      <td>4</td>\n",
       "      <td>[Chauffeur SPL national / international, Chauf...</td>\n",
       "      <td>2</td>\n",
       "    </tr>\n",
       "    <tr>\n",
       "      <th>24</th>\n",
       "      <td>3</td>\n",
       "      <td>[Chauffeur PL national / international, Chauff...</td>\n",
       "      <td>2</td>\n",
       "    </tr>\n",
       "    <tr>\n",
       "      <th>25</th>\n",
       "      <td>2</td>\n",
       "      <td>[Chercheur, Médecin généraliste]</td>\n",
       "      <td>2</td>\n",
       "    </tr>\n",
       "    <tr>\n",
       "      <th>26</th>\n",
       "      <td>26</td>\n",
       "      <td>[Manutentionnaire, Agent de conditionnement]</td>\n",
       "      <td>2</td>\n",
       "    </tr>\n",
       "  </tbody>\n",
       "</table>\n",
       "</div>"
      ],
      "text/plain": [
       "    cluster                                        professions  size\n",
       "0         0    [Ouvrier Technicien, Technicien de laboratoire]     2\n",
       "1        14        [Comptable clients, Comptable fournisseurs]     2\n",
       "2        25                              [Déménageur, Postier]     2\n",
       "3        24                       [Réceptionnaire, Magasinier]     2\n",
       "4        23                                 [Jardinier, Maçon]     2\n",
       "5        22                           [Charpentier, Plaquiste]     2\n",
       "6        21                              [Vendeur, Artistique]     2\n",
       "7        20           [Chargé d'affaires, Chargé de clientèle]     2\n",
       "8        19                          [Radiologue, Electricien]     2\n",
       "9        18          [Opérateur commandes numériques, Soudeur]     2\n",
       "10       17               [Recrutement, Formation et carrière]     2\n",
       "11       16  [Assistant de direction, Assistant polyvalent ...     2\n",
       "12       15        [Assistant comptable, Comptable spécialisé]     2\n",
       "13       13                             [Enseignant, Pédiatre]     2\n",
       "14        1   [Accompagnant éducatif et social, Aide soignant]     2\n",
       "15       12                 [Electromécanicien, Electronicien]     2\n",
       "16       11           [Agent d'exploitation, Agent de transit]     2\n",
       "17       10  [Chef d'équipe logistique, Management industriel]     2\n",
       "18        9            [Agent d'entretien, Agent de nettoyage]     2\n",
       "19        8                            [Pharmacien, Ingénieur]     2\n",
       "20        7  [Manipulateur radio, Technicien d'analyse biom...     2\n",
       "21        6   [Infirmier préleveur, Infirmier bloc opératoire]     2\n",
       "22        5                    [Expert réseaux, Informaticien]     2\n",
       "23        4  [Chauffeur SPL national / international, Chauf...     2\n",
       "24        3  [Chauffeur PL national / international, Chauff...     2\n",
       "25        2                   [Chercheur, Médecin généraliste]     2\n",
       "26       26       [Manutentionnaire, Agent de conditionnement]     2"
      ]
     },
     "execution_count": 16,
     "metadata": {},
     "output_type": "execute_result"
    }
   ],
   "source": [
    "representative_professions_per_cluster"
   ]
  },
  {
   "cell_type": "markdown",
   "id": "cf47447c-1c5b-4b73-8053-434b925310c0",
   "metadata": {},
   "source": [
    "### Graph containing the single nodes\n",
    "\n",
    "#### We can use the graph structure generated by HDBSCAN with associated weights to use graph clustering later."
   ]
  },
  {
   "cell_type": "code",
   "execution_count": 17,
   "id": "9d8ed028-1ae5-480d-8739-7b5d5fc55935",
   "metadata": {},
   "outputs": [
    {
     "data": {
      "text/html": [
       "<div>\n",
       "<style scoped>\n",
       "    .dataframe tbody tr th:only-of-type {\n",
       "        vertical-align: middle;\n",
       "    }\n",
       "\n",
       "    .dataframe tbody tr th {\n",
       "        vertical-align: top;\n",
       "    }\n",
       "\n",
       "    .dataframe thead th {\n",
       "        text-align: right;\n",
       "    }\n",
       "</style>\n",
       "<table border=\"1\" class=\"dataframe\">\n",
       "  <thead>\n",
       "    <tr style=\"text-align: right;\">\n",
       "      <th></th>\n",
       "      <th>parent</th>\n",
       "      <th>child</th>\n",
       "      <th>weight</th>\n",
       "    </tr>\n",
       "  </thead>\n",
       "  <tbody>\n",
       "    <tr>\n",
       "      <th>0</th>\n",
       "      <td>196</td>\n",
       "      <td>105</td>\n",
       "      <td>55.373040</td>\n",
       "    </tr>\n",
       "    <tr>\n",
       "      <th>1</th>\n",
       "      <td>196</td>\n",
       "      <td>107</td>\n",
       "      <td>55.373040</td>\n",
       "    </tr>\n",
       "    <tr>\n",
       "      <th>2</th>\n",
       "      <td>196</td>\n",
       "      <td>104</td>\n",
       "      <td>17.695988</td>\n",
       "    </tr>\n",
       "    <tr>\n",
       "      <th>3</th>\n",
       "      <td>196</td>\n",
       "      <td>106</td>\n",
       "      <td>8.238275</td>\n",
       "    </tr>\n",
       "    <tr>\n",
       "      <th>4</th>\n",
       "      <td>235</td>\n",
       "      <td>119</td>\n",
       "      <td>7.719186</td>\n",
       "    </tr>\n",
       "    <tr>\n",
       "      <th>...</th>\n",
       "      <td>...</td>\n",
       "      <td>...</td>\n",
       "      <td>...</td>\n",
       "    </tr>\n",
       "    <tr>\n",
       "      <th>178</th>\n",
       "      <td>184</td>\n",
       "      <td>175</td>\n",
       "      <td>1.285459</td>\n",
       "    </tr>\n",
       "    <tr>\n",
       "      <th>179</th>\n",
       "      <td>184</td>\n",
       "      <td>48</td>\n",
       "      <td>1.283300</td>\n",
       "    </tr>\n",
       "    <tr>\n",
       "      <th>180</th>\n",
       "      <td>184</td>\n",
       "      <td>99</td>\n",
       "      <td>1.276356</td>\n",
       "    </tr>\n",
       "    <tr>\n",
       "      <th>181</th>\n",
       "      <td>183</td>\n",
       "      <td>24</td>\n",
       "      <td>1.232206</td>\n",
       "    </tr>\n",
       "    <tr>\n",
       "      <th>182</th>\n",
       "      <td>183</td>\n",
       "      <td>125</td>\n",
       "      <td>1.000000</td>\n",
       "    </tr>\n",
       "  </tbody>\n",
       "</table>\n",
       "<p>183 rows × 3 columns</p>\n",
       "</div>"
      ],
      "text/plain": [
       "     parent  child     weight\n",
       "0       196    105  55.373040\n",
       "1       196    107  55.373040\n",
       "2       196    104  17.695988\n",
       "3       196    106   8.238275\n",
       "4       235    119   7.719186\n",
       "..      ...    ...        ...\n",
       "178     184    175   1.285459\n",
       "179     184     48   1.283300\n",
       "180     184     99   1.276356\n",
       "181     183     24   1.232206\n",
       "182     183    125   1.000000\n",
       "\n",
       "[183 rows x 3 columns]"
      ]
     },
     "execution_count": 17,
     "metadata": {},
     "output_type": "execute_result"
    }
   ],
   "source": [
    "clusters_df = clusterer.condensed_tree_.to_pandas()\n",
    "clusters_df = clusters_df[clusters_df['child_size'] == 1].sort_values('lambda_val', ascending=False)\n",
    "clusters_df.columns = ['parent', 'child', 'weight', 'size']\n",
    "clusters_df = clusters_df[clusters_df.columns[:-1]]\n",
    "clusters_df = clusters_df.reset_index(drop=True)\n",
    "clusters_df"
   ]
  },
  {
   "cell_type": "markdown",
   "id": "cef796bb-791e-4296-8719-a5e2e1a74f5d",
   "metadata": {
    "tags": []
   },
   "source": [
    "### NetworkX graph"
   ]
  },
  {
   "cell_type": "code",
   "execution_count": 18,
   "id": "23d7c9fd-3310-41c3-8ae2-8df04b117043",
   "metadata": {},
   "outputs": [
    {
     "data": {
      "text/plain": [
       "228"
      ]
     },
     "execution_count": 18,
     "metadata": {},
     "output_type": "execute_result"
    }
   ],
   "source": [
    "G = nx.from_pandas_edgelist(clusters_df, source='parent', target='child', edge_attr='weight')\n",
    "G.number_of_nodes()"
   ]
  },
  {
   "cell_type": "markdown",
   "id": "f4ed9354-6933-4f3f-9b3f-a2541ca0f580",
   "metadata": {},
   "source": [
    "## Save the results"
   ]
  },
  {
   "cell_type": "code",
   "execution_count": 19,
   "id": "42a582d1-2be7-41d3-b977-b8ae461a8d43",
   "metadata": {},
   "outputs": [],
   "source": [
    "professions_per_cluster.to_csv(os.path.join(RESULTS, 'hdbscan-professions-per-cluster.csv'), index=False)\n",
    "representative_professions_per_cluster.to_csv(os.path.join(RESULTS, 'hdbscan-representative-professions-per-cluster.csv'), index=False)"
   ]
  }
 ],
 "metadata": {
  "kernelspec": {
   "display_name": "Python 3 (ipykernel)",
   "language": "python",
   "name": "python3"
  },
  "language_info": {
   "codemirror_mode": {
    "name": "ipython",
    "version": 3
   },
   "file_extension": ".py",
   "mimetype": "text/x-python",
   "name": "python",
   "nbconvert_exporter": "python",
   "pygments_lexer": "ipython3",
   "version": "3.9.7"
  }
 },
 "nbformat": 4,
 "nbformat_minor": 5
}
