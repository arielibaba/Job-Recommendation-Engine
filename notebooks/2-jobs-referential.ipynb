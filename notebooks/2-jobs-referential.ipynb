{
 "cells": [
  {
   "cell_type": "markdown",
   "id": "e3855e80",
   "metadata": {},
   "source": [
    "# Jobs Referential\n",
    "\n",
    "### In this notebook, we create the jobs refential from the differents clusters of the professions derived from the previous analyses."
   ]
  },
  {
   "cell_type": "markdown",
   "id": "9311d4a5",
   "metadata": {},
   "source": [
    "### Import libraries"
   ]
  },
  {
   "cell_type": "code",
   "execution_count": 1,
   "id": "afd53dff",
   "metadata": {},
   "outputs": [],
   "source": [
    "import os, sys, time\n",
    "import pandas as pd, numpy as np\n",
    "import random\n",
    "from natsort import natsorted\n",
    "import ast\n",
    "from collections import Counter"
   ]
  },
  {
   "cell_type": "markdown",
   "id": "81f02296",
   "metadata": {},
   "source": [
    "### Global variables"
   ]
  },
  {
   "cell_type": "code",
   "execution_count": 2,
   "id": "b71a4393",
   "metadata": {},
   "outputs": [],
   "source": [
    "RESULTS = os.path.join('..', 'results')"
   ]
  },
  {
   "cell_type": "markdown",
   "id": "d52e2622",
   "metadata": {},
   "source": [
    "## STEP 0: Load the clusters\n",
    "\n",
    "#### We load all the clusters obtained so far:"
   ]
  },
  {
   "cell_type": "markdown",
   "id": "aa6e598a-b1e5-41bd-9ce9-c3c4d8ee7374",
   "metadata": {},
   "source": [
    "#### HDBSCAN clustering"
   ]
  },
  {
   "cell_type": "code",
   "execution_count": 3,
   "id": "6944c35a",
   "metadata": {},
   "outputs": [
    {
     "name": "stdout",
     "output_type": "stream",
     "text": [
      "Number of clusters: 27\n",
      "\n",
      "\n"
     ]
    },
    {
     "data": {
      "text/html": [
       "<div>\n",
       "<style scoped>\n",
       "    .dataframe tbody tr th:only-of-type {\n",
       "        vertical-align: middle;\n",
       "    }\n",
       "\n",
       "    .dataframe tbody tr th {\n",
       "        vertical-align: top;\n",
       "    }\n",
       "\n",
       "    .dataframe thead th {\n",
       "        text-align: right;\n",
       "    }\n",
       "</style>\n",
       "<table border=\"1\" class=\"dataframe\">\n",
       "  <thead>\n",
       "    <tr style=\"text-align: right;\">\n",
       "      <th></th>\n",
       "      <th>cluster</th>\n",
       "      <th>professions</th>\n",
       "      <th>size</th>\n",
       "    </tr>\n",
       "  </thead>\n",
       "  <tbody>\n",
       "    <tr>\n",
       "      <th>0</th>\n",
       "      <td>25</td>\n",
       "      <td>['Chauffeur VL', 'Déménageur', 'Hotliner', 'Ma...</td>\n",
       "      <td>7</td>\n",
       "    </tr>\n",
       "    <tr>\n",
       "      <th>1</th>\n",
       "      <td>12</td>\n",
       "      <td>[\"Chef d'atelier\", 'Electromécanicien', 'Elect...</td>\n",
       "      <td>7</td>\n",
       "    </tr>\n",
       "    <tr>\n",
       "      <th>2</th>\n",
       "      <td>14</td>\n",
       "      <td>['Auditeur comptable', 'Comptable clients', 'C...</td>\n",
       "      <td>6</td>\n",
       "    </tr>\n",
       "    <tr>\n",
       "      <th>3</th>\n",
       "      <td>6</td>\n",
       "      <td>['Infirmier', 'Infirmier anesthésiste', 'Infir...</td>\n",
       "      <td>5</td>\n",
       "    </tr>\n",
       "    <tr>\n",
       "      <th>4</th>\n",
       "      <td>23</td>\n",
       "      <td>['Jardinier', 'Maçon', 'Nacelliste', 'Paysagis...</td>\n",
       "      <td>4</td>\n",
       "    </tr>\n",
       "  </tbody>\n",
       "</table>\n",
       "</div>"
      ],
      "text/plain": [
       "   cluster                                        professions  size\n",
       "0       25  ['Chauffeur VL', 'Déménageur', 'Hotliner', 'Ma...     7\n",
       "1       12  [\"Chef d'atelier\", 'Electromécanicien', 'Elect...     7\n",
       "2       14  ['Auditeur comptable', 'Comptable clients', 'C...     6\n",
       "3        6  ['Infirmier', 'Infirmier anesthésiste', 'Infir...     5\n",
       "4       23  ['Jardinier', 'Maçon', 'Nacelliste', 'Paysagis...     4"
      ]
     },
     "execution_count": 3,
     "metadata": {},
     "output_type": "execute_result"
    }
   ],
   "source": [
    "hdbscan_clusters = pd.read_csv(os.path.join(RESULTS, 'hdbscan-professions-per-cluster.csv'))\n",
    "\n",
    "print(f'Number of clusters: {len(hdbscan_clusters)}\\n\\n')\n",
    "hdbscan_clusters.head()"
   ]
  },
  {
   "cell_type": "markdown",
   "id": "e4a5e695-ede9-434a-9301-ae61509c6ca6",
   "metadata": {},
   "source": [
    "#### Graph clustering - Louvain algorithm (NetworkX)"
   ]
  },
  {
   "cell_type": "code",
   "execution_count": 4,
   "id": "394c4e08-cd6f-49bd-ae87-5e3ae3e61ba4",
   "metadata": {},
   "outputs": [
    {
     "name": "stdout",
     "output_type": "stream",
     "text": [
      "Number of clusters: 26\n",
      "\n",
      "\n"
     ]
    },
    {
     "data": {
      "text/html": [
       "<div>\n",
       "<style scoped>\n",
       "    .dataframe tbody tr th:only-of-type {\n",
       "        vertical-align: middle;\n",
       "    }\n",
       "\n",
       "    .dataframe tbody tr th {\n",
       "        vertical-align: top;\n",
       "    }\n",
       "\n",
       "    .dataframe thead th {\n",
       "        text-align: right;\n",
       "    }\n",
       "</style>\n",
       "<table border=\"1\" class=\"dataframe\">\n",
       "  <thead>\n",
       "    <tr style=\"text-align: right;\">\n",
       "      <th></th>\n",
       "      <th>cluster</th>\n",
       "      <th>professions</th>\n",
       "      <th>size</th>\n",
       "    </tr>\n",
       "  </thead>\n",
       "  <tbody>\n",
       "    <tr>\n",
       "      <th>0</th>\n",
       "      <td>2</td>\n",
       "      <td>['Acheteur', 'Administration des ventes', 'Age...</td>\n",
       "      <td>40</td>\n",
       "    </tr>\n",
       "    <tr>\n",
       "      <th>1</th>\n",
       "      <td>19</td>\n",
       "      <td>['Carreleur', 'Charpentier', 'Coffreur', \"Cond...</td>\n",
       "      <td>14</td>\n",
       "    </tr>\n",
       "    <tr>\n",
       "      <th>2</th>\n",
       "      <td>23</td>\n",
       "      <td>['Câbleur', \"Chef d'atelier\", \"Chef d'équipe t...</td>\n",
       "      <td>14</td>\n",
       "    </tr>\n",
       "    <tr>\n",
       "      <th>3</th>\n",
       "      <td>3</td>\n",
       "      <td>['Affrètement', \"Agent d'exploitation\", 'Agent...</td>\n",
       "      <td>13</td>\n",
       "    </tr>\n",
       "    <tr>\n",
       "      <th>4</th>\n",
       "      <td>34</td>\n",
       "      <td>['Audit', 'Chercheur', 'Ingénieur', 'Manipulat...</td>\n",
       "      <td>9</td>\n",
       "    </tr>\n",
       "  </tbody>\n",
       "</table>\n",
       "</div>"
      ],
      "text/plain": [
       "   cluster                                        professions  size\n",
       "0        2  ['Acheteur', 'Administration des ventes', 'Age...    40\n",
       "1       19  ['Carreleur', 'Charpentier', 'Coffreur', \"Cond...    14\n",
       "2       23  ['Câbleur', \"Chef d'atelier\", \"Chef d'équipe t...    14\n",
       "3        3  ['Affrètement', \"Agent d'exploitation\", 'Agent...    13\n",
       "4       34  ['Audit', 'Chercheur', 'Ingénieur', 'Manipulat...     9"
      ]
     },
     "execution_count": 4,
     "metadata": {},
     "output_type": "execute_result"
    }
   ],
   "source": [
    "louvain_clusters = pd.read_csv(os.path.join(RESULTS, 'graph-louvain-professions-per-cluster.csv'))\n",
    "\n",
    "print(f'Number of clusters: {len(louvain_clusters)}\\n\\n')\n",
    "louvain_clusters.head()"
   ]
  },
  {
   "cell_type": "markdown",
   "id": "eb3b893d-e093-4193-a14f-95a58844cc5c",
   "metadata": {},
   "source": [
    "#### Association Rules"
   ]
  },
  {
   "cell_type": "code",
   "execution_count": 5,
   "id": "97de3c33-b0ea-4744-9f79-b8f7cebb5409",
   "metadata": {},
   "outputs": [
    {
     "name": "stdout",
     "output_type": "stream",
     "text": [
      "Number of association rules: 26\n",
      "\n",
      "\n"
     ]
    },
    {
     "data": {
      "text/html": [
       "<div>\n",
       "<style scoped>\n",
       "    .dataframe tbody tr th:only-of-type {\n",
       "        vertical-align: middle;\n",
       "    }\n",
       "\n",
       "    .dataframe tbody tr th {\n",
       "        vertical-align: top;\n",
       "    }\n",
       "\n",
       "    .dataframe thead th {\n",
       "        text-align: right;\n",
       "    }\n",
       "</style>\n",
       "<table border=\"1\" class=\"dataframe\">\n",
       "  <thead>\n",
       "    <tr style=\"text-align: right;\">\n",
       "      <th></th>\n",
       "      <th>cluster</th>\n",
       "      <th>antecedents</th>\n",
       "      <th>consequents</th>\n",
       "      <th>size</th>\n",
       "    </tr>\n",
       "  </thead>\n",
       "  <tbody>\n",
       "    <tr>\n",
       "      <th>0</th>\n",
       "      <td>0</td>\n",
       "      <td>Déménageur</td>\n",
       "      <td>['Chauffeur VL', 'Hotliner', 'Manoeuvre', 'Man...</td>\n",
       "      <td>9</td>\n",
       "    </tr>\n",
       "    <tr>\n",
       "      <th>1</th>\n",
       "      <td>1</td>\n",
       "      <td>Réceptionnaire</td>\n",
       "      <td>['Cariste', 'Magasinier', 'Manutentionnaire', ...</td>\n",
       "      <td>4</td>\n",
       "    </tr>\n",
       "    <tr>\n",
       "      <th>2</th>\n",
       "      <td>2</td>\n",
       "      <td>Electronicien</td>\n",
       "      <td>['Electrotechnicien', 'Technicien de maintenan...</td>\n",
       "      <td>2</td>\n",
       "    </tr>\n",
       "    <tr>\n",
       "      <th>3</th>\n",
       "      <td>3</td>\n",
       "      <td>Manoeuvre</td>\n",
       "      <td>['Manutentionnaire', 'Préparateur de commandes']</td>\n",
       "      <td>2</td>\n",
       "    </tr>\n",
       "    <tr>\n",
       "      <th>4</th>\n",
       "      <td>4</td>\n",
       "      <td>Chargé d'affaires</td>\n",
       "      <td>['Chargé de clientèle', 'Commercial']</td>\n",
       "      <td>2</td>\n",
       "    </tr>\n",
       "  </tbody>\n",
       "</table>\n",
       "</div>"
      ],
      "text/plain": [
       "   cluster        antecedents  \\\n",
       "0        0         Déménageur   \n",
       "1        1     Réceptionnaire   \n",
       "2        2      Electronicien   \n",
       "3        3          Manoeuvre   \n",
       "4        4  Chargé d'affaires   \n",
       "\n",
       "                                         consequents  size  \n",
       "0  ['Chauffeur VL', 'Hotliner', 'Manoeuvre', 'Man...     9  \n",
       "1  ['Cariste', 'Magasinier', 'Manutentionnaire', ...     4  \n",
       "2  ['Electrotechnicien', 'Technicien de maintenan...     2  \n",
       "3   ['Manutentionnaire', 'Préparateur de commandes']     2  \n",
       "4              ['Chargé de clientèle', 'Commercial']     2  "
      ]
     },
     "execution_count": 5,
     "metadata": {},
     "output_type": "execute_result"
    }
   ],
   "source": [
    "association_rules = pd.read_csv(os.path.join(RESULTS, 'association-rules-professions-per-cluster.csv'))\n",
    "\n",
    "print(f'Number of association rules: {len(association_rules)}\\n\\n')\n",
    "association_rules.head()"
   ]
  },
  {
   "cell_type": "markdown",
   "id": "6d025764-deb0-4b32-870f-c5255e29b9f7",
   "metadata": {},
   "source": [
    "# Step 1: Synthesize the clusters\n",
    "\n",
    "### We perform a synthesis of the clusters to obtained final clusters correpondind to associations of the professions.\n",
    "### For each profession, we determine all the related professions."
   ]
  },
  {
   "cell_type": "markdown",
   "id": "2aee67f9-dcba-4b7f-9f5d-daf1553860bd",
   "metadata": {},
   "source": [
    "### Hypotheses:\n",
    "\n",
    "##### To determine the final associations between the profession, we consider the 3 following strategies, from the less conservative to the most conservative:\n",
    "\n",
    "##### 1. We retain the union of the clusters\n",
    "##### 2. We proceed to a majority vote based on the three models: for each profession, we retain the related professions associated to it at least twice (over the three models)\n",
    "##### 3. We retain only the intersection of the clusters\n",
    "\n",
    "##### We distinguish the particular case of the associations rules, as they correspond to implications:\n",
    "\n",
    "##### profesion A --> [profession B, profession C] means: when we see profession A, w can seuggest professions B and C, but there is no reciprocity in this relation.\n",
    "\n",
    "##### So, for this particular case we do not consider the professions B and C to be related, at least directly."
   ]
  },
  {
   "cell_type": "markdown",
   "id": "abc62e70-cdf3-4dc5-8d3e-9dd0dc2fe952",
   "metadata": {},
   "source": [
    "## Step 1.0: We get all the professions and the associations"
   ]
  },
  {
   "cell_type": "code",
   "execution_count": 6,
   "id": "5c6dbfdb-b58f-4efb-baca-f88c65fee11c",
   "metadata": {},
   "outputs": [
    {
     "name": "stdout",
     "output_type": "stream",
     "text": [
      "Number of professions: 173\n",
      "\n",
      "\n",
      "Sample of profesions:\n",
      "\n"
     ]
    },
    {
     "data": {
      "text/plain": [
       "['Accompagnant éducatif et social',\n",
       " 'Accompagnateur',\n",
       " 'Acheteur',\n",
       " 'Administration des ventes',\n",
       " 'Affrètement']"
      ]
     },
     "execution_count": 6,
     "metadata": {},
     "output_type": "execute_result"
    }
   ],
   "source": [
    "professions = hdbscan_clusters.professions.tolist() + louvain_clusters.professions.tolist() + association_rules.consequents.tolist()\n",
    "professions = [ast.literal_eval(x) for x in professions]\n",
    "professions = [prof for professions_list in professions for prof in professions_list]\n",
    "# professions += association_rules.antecedents.tolist()\n",
    "professions = natsorted(list(set(professions)))\n",
    "\n",
    "print(f'Number of professions: {len(professions)}\\n\\n')\n",
    "print('Sample of profesions:\\n')\n",
    "professions[:5]"
   ]
  },
  {
   "cell_type": "code",
   "execution_count": 7,
   "id": "52598b36-257b-4794-a771-8783f21e9703",
   "metadata": {},
   "outputs": [],
   "source": [
    "# we consider the clusters otained using HDBSCAN and Louvain (graph) clustering algorithms\n",
    "clusters_hdbscan = hdbscan_clusters.professions.tolist()\n",
    "clusters_hdbscan = [ast.literal_eval(x) for x in clusters_hdbscan]\n",
    "clusters_louvain = louvain_clusters.professions.tolist()\n",
    "clusters_louvain = [ast.literal_eval(x) for x in clusters_louvain]\n",
    "clusters = clusters_hdbscan + clusters_louvain\n",
    "\n",
    "# add the association rules\n",
    "association_rules_dic = {association_rules.iloc[idx, 1]: association_rules.iloc[idx, 2] for idx in range(len(association_rules))}\n",
    "association_rules_dic = {k: ast.literal_eval(v) for k, v in association_rules_dic.items()}"
   ]
  },
  {
   "cell_type": "markdown",
   "id": "86052c2a-b23a-4c78-a8f1-5f42de113d5c",
   "metadata": {
    "tags": []
   },
   "source": [
    "## Step 1.1: We consider the union of the clusters to group them"
   ]
  },
  {
   "cell_type": "code",
   "execution_count": 8,
   "id": "9f2080b3-1451-4b21-a278-0d1aa37bb1ee",
   "metadata": {},
   "outputs": [
    {
     "name": "stdout",
     "output_type": "stream",
     "text": [
      "Number of associations: 173\n",
      "\n",
      "\n"
     ]
    },
    {
     "data": {
      "text/html": [
       "<div>\n",
       "<style scoped>\n",
       "    .dataframe tbody tr th:only-of-type {\n",
       "        vertical-align: middle;\n",
       "    }\n",
       "\n",
       "    .dataframe tbody tr th {\n",
       "        vertical-align: top;\n",
       "    }\n",
       "\n",
       "    .dataframe thead th {\n",
       "        text-align: right;\n",
       "    }\n",
       "</style>\n",
       "<table border=\"1\" class=\"dataframe\">\n",
       "  <thead>\n",
       "    <tr style=\"text-align: right;\">\n",
       "      <th></th>\n",
       "      <th>profession</th>\n",
       "      <th>related_professions</th>\n",
       "      <th>size</th>\n",
       "    </tr>\n",
       "  </thead>\n",
       "  <tbody>\n",
       "    <tr>\n",
       "      <th>0</th>\n",
       "      <td>Accompagnant éducatif et social</td>\n",
       "      <td>[Aide soignant, Moniteur éducateur, Educateur ...</td>\n",
       "      <td>3</td>\n",
       "    </tr>\n",
       "    <tr>\n",
       "      <th>1</th>\n",
       "      <td>Accompagnateur</td>\n",
       "      <td>[Kinesithérapeute]</td>\n",
       "      <td>1</td>\n",
       "    </tr>\n",
       "    <tr>\n",
       "      <th>2</th>\n",
       "      <td>Acheteur</td>\n",
       "      <td>[Assistant de direction, Transaction immobiliè...</td>\n",
       "      <td>39</td>\n",
       "    </tr>\n",
       "    <tr>\n",
       "      <th>3</th>\n",
       "      <td>Administration des ventes</td>\n",
       "      <td>[Assistant de direction, Transaction immobiliè...</td>\n",
       "      <td>39</td>\n",
       "    </tr>\n",
       "    <tr>\n",
       "      <th>4</th>\n",
       "      <td>Affrètement</td>\n",
       "      <td>[Educateur technique spécialisé, Chef d'équipe...</td>\n",
       "      <td>12</td>\n",
       "    </tr>\n",
       "  </tbody>\n",
       "</table>\n",
       "</div>"
      ],
      "text/plain": [
       "                        profession  \\\n",
       "0  Accompagnant éducatif et social   \n",
       "1                   Accompagnateur   \n",
       "2                         Acheteur   \n",
       "3        Administration des ventes   \n",
       "4                      Affrètement   \n",
       "\n",
       "                                 related_professions  size  \n",
       "0  [Aide soignant, Moniteur éducateur, Educateur ...     3  \n",
       "1                                 [Kinesithérapeute]     1  \n",
       "2  [Assistant de direction, Transaction immobiliè...    39  \n",
       "3  [Assistant de direction, Transaction immobiliè...    39  \n",
       "4  [Educateur technique spécialisé, Chef d'équipe...    12  "
      ]
     },
     "execution_count": 8,
     "metadata": {},
     "output_type": "execute_result"
    }
   ],
   "source": [
    "associations_union_dic = {}\n",
    "\n",
    "# loop over the professions\n",
    "for profession in professions:\n",
    "    related_profs = []\n",
    "    # get the related professions in the HDBSCAN and Louvain clusters\n",
    "    for cluster in clusters:\n",
    "        if profession in cluster:\n",
    "            related_profs.append([x for x in cluster if x != profession])\n",
    "    # get the related professions in association rules\n",
    "    if profession in list(association_rules_dic.keys()):\n",
    "        related_profs.append(association_rules_dic[profession])\n",
    "        \n",
    "    # flatten the list of related profesions\n",
    "    related_profs = list(set([p for el in related_profs for p in el]))\n",
    "    \n",
    "    # append the related professions to the dictionary\n",
    "    associations_union_dic[profession] = related_profs\n",
    "\n",
    "# reduce the lists of related professions\n",
    "associations_union_dic = {k: list(set(v)) for k, v in associations_union_dic.items() if list(set(v))}\n",
    "    \n",
    "# create the final dataframe\n",
    "associations_union_df = pd.DataFrame.from_dict(associations_union_dic, orient='index')\n",
    "profs = []\n",
    "\n",
    "for idx in range(len(associations_union_df)):\n",
    "    profs.append(associations_union_df.iloc[idx, :].tolist())\n",
    "profs = [[p for p in el if p] for el in profs]\n",
    "\n",
    "associations_union_df['related_professions'] = profs\n",
    "associations_union_df = associations_union_df['related_professions']\n",
    "associations_union_df = associations_union_df.reset_index()\n",
    "associations_union_df.columns = ['profession', 'related_professions']\n",
    "associations_union_df['size'] = associations_union_df['related_professions'].apply(lambda x: len(x))\n",
    "\n",
    "print(f'Number of associations: {len(associations_union_df)}\\n\\n')\n",
    "associations_union_df.head()"
   ]
  },
  {
   "cell_type": "markdown",
   "id": "851ac0ce-9beb-42be-8374-238d598fd0e8",
   "metadata": {
    "tags": []
   },
   "source": [
    "## Step 1.2: We consider the majority vote"
   ]
  },
  {
   "cell_type": "code",
   "execution_count": 9,
   "id": "a945afa6-b775-4915-a472-a79750e57c69",
   "metadata": {},
   "outputs": [
    {
     "name": "stdout",
     "output_type": "stream",
     "text": [
      "Number of associations: 82\n",
      "\n",
      "\n"
     ]
    },
    {
     "data": {
      "text/html": [
       "<div>\n",
       "<style scoped>\n",
       "    .dataframe tbody tr th:only-of-type {\n",
       "        vertical-align: middle;\n",
       "    }\n",
       "\n",
       "    .dataframe tbody tr th {\n",
       "        vertical-align: top;\n",
       "    }\n",
       "\n",
       "    .dataframe thead th {\n",
       "        text-align: right;\n",
       "    }\n",
       "</style>\n",
       "<table border=\"1\" class=\"dataframe\">\n",
       "  <thead>\n",
       "    <tr style=\"text-align: right;\">\n",
       "      <th></th>\n",
       "      <th>profession</th>\n",
       "      <th>related_professions</th>\n",
       "      <th>size</th>\n",
       "    </tr>\n",
       "  </thead>\n",
       "  <tbody>\n",
       "    <tr>\n",
       "      <th>0</th>\n",
       "      <td>Accompagnant éducatif et social</td>\n",
       "      <td>[Aide soignant]</td>\n",
       "      <td>1</td>\n",
       "    </tr>\n",
       "    <tr>\n",
       "      <th>1</th>\n",
       "      <td>Affrètement</td>\n",
       "      <td>[Agent de transit, Agent d'exploitation]</td>\n",
       "      <td>2</td>\n",
       "    </tr>\n",
       "    <tr>\n",
       "      <th>2</th>\n",
       "      <td>Agent d'entretien</td>\n",
       "      <td>[Agent de nettoyage]</td>\n",
       "      <td>1</td>\n",
       "    </tr>\n",
       "    <tr>\n",
       "      <th>3</th>\n",
       "      <td>Agent d'exploitation</td>\n",
       "      <td>[Agent de transit, Affrètement]</td>\n",
       "      <td>2</td>\n",
       "    </tr>\n",
       "    <tr>\n",
       "      <th>4</th>\n",
       "      <td>Agent de conditionnement</td>\n",
       "      <td>[Préparateur de commandes, Manutentionnaire]</td>\n",
       "      <td>2</td>\n",
       "    </tr>\n",
       "  </tbody>\n",
       "</table>\n",
       "</div>"
      ],
      "text/plain": [
       "                        profession  \\\n",
       "0  Accompagnant éducatif et social   \n",
       "1                      Affrètement   \n",
       "2                Agent d'entretien   \n",
       "3             Agent d'exploitation   \n",
       "4         Agent de conditionnement   \n",
       "\n",
       "                            related_professions  size  \n",
       "0                               [Aide soignant]     1  \n",
       "1      [Agent de transit, Agent d'exploitation]     2  \n",
       "2                          [Agent de nettoyage]     1  \n",
       "3               [Agent de transit, Affrètement]     2  \n",
       "4  [Préparateur de commandes, Manutentionnaire]     2  "
      ]
     },
     "execution_count": 9,
     "metadata": {},
     "output_type": "execute_result"
    }
   ],
   "source": [
    "associations_dic = {}\n",
    "\n",
    "# loop over the professions\n",
    "for profession in professions:\n",
    "    related_profs = []\n",
    "    # get the related professions in the HDBSCAN and Louvain clusters\n",
    "    for cluster in clusters:\n",
    "        if profession in cluster:\n",
    "            related_profs.append([x for x in cluster if x != profession])\n",
    "    # get the related professions in association rules\n",
    "    if profession in list(association_rules_dic.keys()):\n",
    "        related_profs.append(association_rules_dic[profession])\n",
    "        \n",
    "    # flatten the list of related profesions\n",
    "    related_profs = [p for el in related_profs for p in el]\n",
    "    \n",
    "    # append the related professions to the dictionary\n",
    "    associations_dic[profession] = related_profs\n",
    "\n",
    "# reduce the lists of related professions\n",
    "associations_dic = {k: v for k, v in associations_dic.items() if v}\n",
    "\n",
    "# for each profession, we only retain the professions that appears at least twice in each list of its related professions:\n",
    "associations_majority_dic = {prof: [p for p in associations_dic[prof] if Counter(associations_dic[prof])[p] > 1] for prof in list(associations_dic.keys())}\n",
    "associations_majority_dic = {k: list(set(v)) for k, v in associations_majority_dic.items() if list(set(v))}\n",
    "\n",
    "# create the final dataframe\n",
    "associations_majority_df = pd.DataFrame.from_dict(associations_majority_dic, orient='index')\n",
    "profs = []\n",
    "\n",
    "for idx in range(len(associations_majority_df)):\n",
    "    profs.append(associations_majority_df.iloc[idx, :].tolist())\n",
    "profs = [[p for p in el if p] for el in profs]\n",
    "\n",
    "associations_majority_df['related_professions'] = profs\n",
    "associations_majority_df = associations_majority_df['related_professions']\n",
    "associations_majority_df = associations_majority_df.reset_index()\n",
    "associations_majority_df.columns = ['profession', 'related_professions']\n",
    "associations_majority_df['size'] = associations_majority_df['related_professions'].apply(lambda x: len(x))\n",
    "\n",
    "print(f'Number of associations: {len(associations_majority_df)}\\n\\n')\n",
    "associations_majority_df.head()"
   ]
  },
  {
   "cell_type": "markdown",
   "id": "7ff1fe2b-e813-46e5-a487-cd0474601eb8",
   "metadata": {},
   "source": [
    "## Step 1.3: We consider the intersection of the clusters to group them"
   ]
  },
  {
   "cell_type": "code",
   "execution_count": 10,
   "id": "2fbacee5-da97-452a-8ff3-d67db000af38",
   "metadata": {},
   "outputs": [
    {
     "name": "stdout",
     "output_type": "stream",
     "text": [
      "Number of associations: 17\n",
      "\n",
      "\n"
     ]
    },
    {
     "data": {
      "text/html": [
       "<div>\n",
       "<style scoped>\n",
       "    .dataframe tbody tr th:only-of-type {\n",
       "        vertical-align: middle;\n",
       "    }\n",
       "\n",
       "    .dataframe tbody tr th {\n",
       "        vertical-align: top;\n",
       "    }\n",
       "\n",
       "    .dataframe thead th {\n",
       "        text-align: right;\n",
       "    }\n",
       "</style>\n",
       "<table border=\"1\" class=\"dataframe\">\n",
       "  <thead>\n",
       "    <tr style=\"text-align: right;\">\n",
       "      <th></th>\n",
       "      <th>profession</th>\n",
       "      <th>related_professions</th>\n",
       "      <th>size</th>\n",
       "    </tr>\n",
       "  </thead>\n",
       "  <tbody>\n",
       "    <tr>\n",
       "      <th>0</th>\n",
       "      <td>Accompagnant éducatif et social</td>\n",
       "      <td>[Aide soignant]</td>\n",
       "      <td>1</td>\n",
       "    </tr>\n",
       "    <tr>\n",
       "      <th>1</th>\n",
       "      <td>Agent de conditionnement</td>\n",
       "      <td>[Préparateur de commandes, Manutentionnaire]</td>\n",
       "      <td>2</td>\n",
       "    </tr>\n",
       "    <tr>\n",
       "      <th>2</th>\n",
       "      <td>Animateur de ventes / Promotion</td>\n",
       "      <td>[Vendeur]</td>\n",
       "      <td>1</td>\n",
       "    </tr>\n",
       "    <tr>\n",
       "      <th>3</th>\n",
       "      <td>Artistique</td>\n",
       "      <td>[Vendeur]</td>\n",
       "      <td>1</td>\n",
       "    </tr>\n",
       "    <tr>\n",
       "      <th>4</th>\n",
       "      <td>Assistant de direction</td>\n",
       "      <td>[Assistant polyvalent / Secrétaire]</td>\n",
       "      <td>1</td>\n",
       "    </tr>\n",
       "  </tbody>\n",
       "</table>\n",
       "</div>"
      ],
      "text/plain": [
       "                        profession  \\\n",
       "0  Accompagnant éducatif et social   \n",
       "1         Agent de conditionnement   \n",
       "2  Animateur de ventes / Promotion   \n",
       "3                       Artistique   \n",
       "4           Assistant de direction   \n",
       "\n",
       "                            related_professions  size  \n",
       "0                               [Aide soignant]     1  \n",
       "1  [Préparateur de commandes, Manutentionnaire]     2  \n",
       "2                                     [Vendeur]     1  \n",
       "3                                     [Vendeur]     1  \n",
       "4           [Assistant polyvalent / Secrétaire]     1  "
      ]
     },
     "execution_count": 10,
     "metadata": {},
     "output_type": "execute_result"
    }
   ],
   "source": [
    "associations_intersect_dic = {}\n",
    "\n",
    "# loop over the professions\n",
    "for profession in professions:\n",
    "    cluster_hdbscan = None\n",
    "    cluster_louvain = None\n",
    "    association_rule = None\n",
    "    related_profs = []\n",
    "    # get the related professions in the HDBSCAN clusters\n",
    "    for cluster in clusters_hdbscan:\n",
    "        if profession in cluster:\n",
    "            cluster_hdbscan = [x for x in cluster if x != profession]\n",
    "            break\n",
    "    # get the related professions in the Louvain clusters\n",
    "    for cluster in clusters_louvain:\n",
    "        if profession in cluster:\n",
    "            cluster_louvain = [x for x in cluster if x != profession]\n",
    "            break\n",
    "    # get the related professions in association rules\n",
    "    if profession in list(association_rules_dic.keys()):\n",
    "        association_rule = association_rules_dic[profession]\n",
    "    \n",
    "    if cluster_hdbscan and cluster_louvain and association_rule:\n",
    "        related_profs.append(cluster_hdbscan)\n",
    "        related_profs.append(cluster_louvain)\n",
    "        related_profs.append(association_rule)\n",
    "        # keep only the intersection\n",
    "        related_profs = list(set.intersection(*map(set, related_profs)))\n",
    "        # append the related professions to the dictionary\n",
    "        associations_intersect_dic[profession] = related_profs\n",
    "\n",
    "# reduce the lists of related professions\n",
    "associations_intersect_dic = {k: list(set(v)) for k, v in associations_intersect_dic.items() if list(set(v))}\n",
    "\n",
    "# create the final dataframe\n",
    "associations_intersect_df = pd.DataFrame.from_dict(associations_intersect_dic, orient='index')\n",
    "profs = []\n",
    "\n",
    "for idx in range(len(associations_intersect_df)):\n",
    "    profs.append(associations_intersect_df.iloc[idx, :].tolist())\n",
    "profs = [[p for p in el if p] for el in profs]\n",
    "\n",
    "associations_intersect_df['related_professions'] = profs\n",
    "associations_intersect_df = associations_intersect_df['related_professions']\n",
    "associations_intersect_df = associations_intersect_df.reset_index()\n",
    "associations_intersect_df.columns = ['profession', 'related_professions']\n",
    "associations_intersect_df['size'] = associations_intersect_df['related_professions'].apply(lambda x: len(x))\n",
    "\n",
    "print(f'Number of associations: {len(associations_intersect_df)}\\n\\n')\n",
    "associations_intersect_df.head()"
   ]
  },
  {
   "cell_type": "markdown",
   "id": "cedc2711-6e82-4ece-a721-29e8980bdfcc",
   "metadata": {
    "tags": []
   },
   "source": [
    "## Step 1.4: We compare the referentials\n",
    "\n",
    "##### We can interpret the differences between the refrentials as the associations of professions that are less strong.\n",
    "##### Indeed, these associations are less robust as the professions involved appear in the same clusters or do not depending on the clustering methods used.\n",
    "##### Here, we define as non-robust associations those that are present in table resulting from the union of the clusters but not in one resulting from the majority-vote."
   ]
  },
  {
   "cell_type": "code",
   "execution_count": 11,
   "id": "5ff9c65e-eeed-4a54-b537-8ab98c447678",
   "metadata": {},
   "outputs": [
    {
     "name": "stdout",
     "output_type": "stream",
     "text": [
      "Number of flatten associations in the union: 1262\n",
      "\n",
      "\n"
     ]
    },
    {
     "data": {
      "text/html": [
       "<div>\n",
       "<style scoped>\n",
       "    .dataframe tbody tr th:only-of-type {\n",
       "        vertical-align: middle;\n",
       "    }\n",
       "\n",
       "    .dataframe tbody tr th {\n",
       "        vertical-align: top;\n",
       "    }\n",
       "\n",
       "    .dataframe thead th {\n",
       "        text-align: right;\n",
       "    }\n",
       "</style>\n",
       "<table border=\"1\" class=\"dataframe\">\n",
       "  <thead>\n",
       "    <tr style=\"text-align: right;\">\n",
       "      <th></th>\n",
       "      <th>profession</th>\n",
       "      <th>related</th>\n",
       "    </tr>\n",
       "  </thead>\n",
       "  <tbody>\n",
       "    <tr>\n",
       "      <th>0</th>\n",
       "      <td>Accompagnant éducatif et social</td>\n",
       "      <td>Aide soignant</td>\n",
       "    </tr>\n",
       "    <tr>\n",
       "      <th>1</th>\n",
       "      <td>Accompagnant éducatif et social</td>\n",
       "      <td>Educateur spécialisé</td>\n",
       "    </tr>\n",
       "    <tr>\n",
       "      <th>2</th>\n",
       "      <td>Accompagnant éducatif et social</td>\n",
       "      <td>Moniteur éducateur</td>\n",
       "    </tr>\n",
       "    <tr>\n",
       "      <th>3</th>\n",
       "      <td>Accompagnateur</td>\n",
       "      <td>Kinesithérapeute</td>\n",
       "    </tr>\n",
       "    <tr>\n",
       "      <th>4</th>\n",
       "      <td>Acheteur</td>\n",
       "      <td>Administration des ventes</td>\n",
       "    </tr>\n",
       "  </tbody>\n",
       "</table>\n",
       "</div>"
      ],
      "text/plain": [
       "                        profession                    related\n",
       "0  Accompagnant éducatif et social              Aide soignant\n",
       "1  Accompagnant éducatif et social       Educateur spécialisé\n",
       "2  Accompagnant éducatif et social         Moniteur éducateur\n",
       "3                   Accompagnateur           Kinesithérapeute\n",
       "4                         Acheteur  Administration des ventes"
      ]
     },
     "execution_count": 11,
     "metadata": {},
     "output_type": "execute_result"
    }
   ],
   "source": [
    "# get the flatten list of job associations for the union\n",
    "associations_union_flatten = [[profession, similar] for profession in list(associations_union_dic.keys()) for similar in associations_union_dic[profession]]\n",
    "associations_union_flatten = [natsorted(el) for el in associations_union_flatten]\n",
    "associations_union_flatten = [list(x) for x in set(tuple(x) for x in associations_union_flatten)]\n",
    "associations_union_flatten = sorted(associations_union_flatten, key=lambda x: (x[0], x[1]))\n",
    "\n",
    "union_flatten_df = pd.DataFrame(associations_union_flatten, columns=['profession', 'related'])\n",
    "\n",
    "print(f'Number of flatten associations in the union: {len(union_flatten_df)}\\n\\n')\n",
    "union_flatten_df.head()"
   ]
  },
  {
   "cell_type": "code",
   "execution_count": 12,
   "id": "71cf1942-f8e9-420b-badc-8191f1f1abc5",
   "metadata": {},
   "outputs": [
    {
     "name": "stdout",
     "output_type": "stream",
     "text": [
      "Number of flatten associations in the majority vote clustering: 107\n",
      "\n",
      "\n"
     ]
    },
    {
     "data": {
      "text/html": [
       "<div>\n",
       "<style scoped>\n",
       "    .dataframe tbody tr th:only-of-type {\n",
       "        vertical-align: middle;\n",
       "    }\n",
       "\n",
       "    .dataframe tbody tr th {\n",
       "        vertical-align: top;\n",
       "    }\n",
       "\n",
       "    .dataframe thead th {\n",
       "        text-align: right;\n",
       "    }\n",
       "</style>\n",
       "<table border=\"1\" class=\"dataframe\">\n",
       "  <thead>\n",
       "    <tr style=\"text-align: right;\">\n",
       "      <th></th>\n",
       "      <th>profession</th>\n",
       "      <th>related</th>\n",
       "    </tr>\n",
       "  </thead>\n",
       "  <tbody>\n",
       "    <tr>\n",
       "      <th>0</th>\n",
       "      <td>Accompagnant éducatif et social</td>\n",
       "      <td>Aide soignant</td>\n",
       "    </tr>\n",
       "    <tr>\n",
       "      <th>1</th>\n",
       "      <td>Affrètement</td>\n",
       "      <td>Agent d'exploitation</td>\n",
       "    </tr>\n",
       "    <tr>\n",
       "      <th>2</th>\n",
       "      <td>Affrètement</td>\n",
       "      <td>Agent de transit</td>\n",
       "    </tr>\n",
       "    <tr>\n",
       "      <th>3</th>\n",
       "      <td>Agent d'entretien</td>\n",
       "      <td>Agent de nettoyage</td>\n",
       "    </tr>\n",
       "    <tr>\n",
       "      <th>4</th>\n",
       "      <td>Agent d'exploitation</td>\n",
       "      <td>Agent de transit</td>\n",
       "    </tr>\n",
       "  </tbody>\n",
       "</table>\n",
       "</div>"
      ],
      "text/plain": [
       "                        profession               related\n",
       "0  Accompagnant éducatif et social         Aide soignant\n",
       "1                      Affrètement  Agent d'exploitation\n",
       "2                      Affrètement      Agent de transit\n",
       "3                Agent d'entretien    Agent de nettoyage\n",
       "4             Agent d'exploitation      Agent de transit"
      ]
     },
     "execution_count": 12,
     "metadata": {},
     "output_type": "execute_result"
    }
   ],
   "source": [
    "# get the flatten list of job associations for the majority\n",
    "associations_majority_flatten = [[profession, similar] for profession in list(associations_majority_dic.keys()) for similar in associations_majority_dic[profession]]\n",
    "associations_majority_flatten = [natsorted(el) for el in associations_majority_flatten]\n",
    "associations_majority_flatten = [list(x) for x in set(tuple(x) for x in associations_majority_flatten)]\n",
    "associations_majority_flatten = sorted(associations_majority_flatten, key=lambda x: (x[0], x[1]))\n",
    "\n",
    "majority_flatten_df = pd.DataFrame(associations_majority_flatten, columns=['profession', 'related'])\n",
    "\n",
    "print(f'Number of flatten associations in the majority vote clustering: {len(majority_flatten_df)}\\n\\n')\n",
    "majority_flatten_df.head()"
   ]
  },
  {
   "cell_type": "markdown",
   "id": "bb69faae-5745-41f7-a30f-82b42bc2bb82",
   "metadata": {},
   "source": [
    "### \"Weak\" associations\n",
    "Tha associations that are in the majority vote clustering could be considered as strong.\n",
    "Now, we define as weak associations those that are not in the majority vote clustering"
   ]
  },
  {
   "cell_type": "code",
   "execution_count": 13,
   "id": "97f1380a-5814-48a3-9d08-c7e2be384b40",
   "metadata": {},
   "outputs": [
    {
     "name": "stdout",
     "output_type": "stream",
     "text": [
      "Number of weak associations: 1155\n",
      "\n",
      "\n"
     ]
    },
    {
     "data": {
      "text/html": [
       "<div>\n",
       "<style scoped>\n",
       "    .dataframe tbody tr th:only-of-type {\n",
       "        vertical-align: middle;\n",
       "    }\n",
       "\n",
       "    .dataframe tbody tr th {\n",
       "        vertical-align: top;\n",
       "    }\n",
       "\n",
       "    .dataframe thead th {\n",
       "        text-align: right;\n",
       "    }\n",
       "</style>\n",
       "<table border=\"1\" class=\"dataframe\">\n",
       "  <thead>\n",
       "    <tr style=\"text-align: right;\">\n",
       "      <th></th>\n",
       "      <th>profession</th>\n",
       "      <th>related</th>\n",
       "    </tr>\n",
       "  </thead>\n",
       "  <tbody>\n",
       "    <tr>\n",
       "      <th>0</th>\n",
       "      <td>Accompagnant éducatif et social</td>\n",
       "      <td>Educateur spécialisé</td>\n",
       "    </tr>\n",
       "    <tr>\n",
       "      <th>1</th>\n",
       "      <td>Accompagnant éducatif et social</td>\n",
       "      <td>Moniteur éducateur</td>\n",
       "    </tr>\n",
       "    <tr>\n",
       "      <th>2</th>\n",
       "      <td>Accompagnateur</td>\n",
       "      <td>Kinesithérapeute</td>\n",
       "    </tr>\n",
       "    <tr>\n",
       "      <th>3</th>\n",
       "      <td>Acheteur</td>\n",
       "      <td>Administration des ventes</td>\n",
       "    </tr>\n",
       "    <tr>\n",
       "      <th>4</th>\n",
       "      <td>Acheteur</td>\n",
       "      <td>Agent de recouvrement</td>\n",
       "    </tr>\n",
       "  </tbody>\n",
       "</table>\n",
       "</div>"
      ],
      "text/plain": [
       "                        profession                    related\n",
       "0  Accompagnant éducatif et social       Educateur spécialisé\n",
       "1  Accompagnant éducatif et social         Moniteur éducateur\n",
       "2                   Accompagnateur           Kinesithérapeute\n",
       "3                         Acheteur  Administration des ventes\n",
       "4                         Acheteur      Agent de recouvrement"
      ]
     },
     "execution_count": 13,
     "metadata": {},
     "output_type": "execute_result"
    }
   ],
   "source": [
    "# association that are in the union but not in the majority\n",
    "weak = []\n",
    "for el in associations_union_flatten:\n",
    "    if el not in associations_majority_flatten:\n",
    "        weak.append(el)\n",
    "        \n",
    "# create the final dataframe\n",
    "weak_df = pd.DataFrame(weak, columns=['profession', 'related'])\n",
    "\n",
    "print(f'Number of weak associations: {len(weak_df)}\\n\\n')\n",
    "weak_df.head()"
   ]
  },
  {
   "cell_type": "markdown",
   "id": "d0343682-4f7a-4c6f-b54b-808b010b70a3",
   "metadata": {
    "tags": []
   },
   "source": [
    "## Export the referentials"
   ]
  },
  {
   "cell_type": "code",
   "execution_count": 14,
   "id": "147df66c-ee88-4854-9163-f9c53586a4fb",
   "metadata": {},
   "outputs": [],
   "source": [
    "associations_intersect_df.to_csv(os.path.join(RESULTS, 'jobs-referential-intersect.csv'), index=False)\n",
    "associations_union_df.to_csv(os.path.join(RESULTS, 'jobs-referential-union.csv'), index=False)\n",
    "associations_majority_df.to_csv(os.path.join(RESULTS, 'jobs-referential-majority.csv'), index=False)\n",
    "weak_df.to_csv(os.path.join(RESULTS, 'jobs-weak-or-less-probable-associations.csv'), index=False)"
   ]
  }
 ],
 "metadata": {
  "kernelspec": {
   "display_name": "Python 3 (ipykernel)",
   "language": "python",
   "name": "python3"
  },
  "language_info": {
   "codemirror_mode": {
    "name": "ipython",
    "version": 3
   },
   "file_extension": ".py",
   "mimetype": "text/x-python",
   "name": "python",
   "nbconvert_exporter": "python",
   "pygments_lexer": "ipython3",
   "version": "3.9.7"
  }
 },
 "nbformat": 4,
 "nbformat_minor": 5
}
